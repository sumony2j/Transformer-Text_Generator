{
 "cells": [
  {
   "cell_type": "markdown",
   "id": "acfa193b",
   "metadata": {},
   "source": [
    "### Load Modules"
   ]
  },
  {
   "cell_type": "code",
   "execution_count": 1,
   "id": "849c32f6",
   "metadata": {},
   "outputs": [],
   "source": [
    "import tensorflow as tf\n",
    "import numpy as np\n",
    "import pandas as pd\n",
    "import matplotlib.pyplot as plt"
   ]
  },
  {
   "cell_type": "markdown",
   "id": "c7284370",
   "metadata": {},
   "source": [
    "### Check GPU"
   ]
  },
  {
   "cell_type": "code",
   "execution_count": 2,
   "id": "a1d3f19e",
   "metadata": {},
   "outputs": [
    {
     "name": "stdout",
     "output_type": "stream",
     "text": [
      "Sat Nov 16 17:52:03 2024       \n",
      "+---------------------------------------------------------------------------------------+\n",
      "| NVIDIA-SMI 546.80                 Driver Version: 546.80       CUDA Version: 12.3     |\n",
      "|-----------------------------------------+----------------------+----------------------+\n",
      "| GPU  Name                     TCC/WDDM  | Bus-Id        Disp.A | Volatile Uncorr. ECC |\n",
      "| Fan  Temp   Perf          Pwr:Usage/Cap |         Memory-Usage | GPU-Util  Compute M. |\n",
      "|                                         |                      |               MIG M. |\n",
      "|=========================================+======================+======================|\n",
      "|   0  NVIDIA GeForce RTX 3050 ...  WDDM  | 00000000:01:00.0 Off |                  N/A |\n",
      "| N/A   58C    P0               9W /  37W |      0MiB /  4096MiB |      0%      Default |\n",
      "|                                         |                      |                  N/A |\n",
      "+-----------------------------------------+----------------------+----------------------+\n",
      "                                                                                         \n",
      "+---------------------------------------------------------------------------------------+\n",
      "| Processes:                                                                            |\n",
      "|  GPU   GI   CI        PID   Type   Process name                            GPU Memory |\n",
      "|        ID   ID                                                             Usage      |\n",
      "|=======================================================================================|\n",
      "|  No running processes found                                                           |\n",
      "+---------------------------------------------------------------------------------------+\n"
     ]
    }
   ],
   "source": [
    "!nvidia-smi"
   ]
  },
  {
   "cell_type": "code",
   "execution_count": 3,
   "id": "88c7f9e5",
   "metadata": {},
   "outputs": [
    {
     "data": {
      "text/plain": [
       "'2.10.0'"
      ]
     },
     "execution_count": 3,
     "metadata": {},
     "output_type": "execute_result"
    }
   ],
   "source": [
    "tf.__version__"
   ]
  },
  {
   "cell_type": "code",
   "execution_count": 4,
   "id": "496ab265",
   "metadata": {},
   "outputs": [
    {
     "data": {
      "text/plain": [
       "[PhysicalDevice(name='/physical_device:GPU:0', device_type='GPU')]"
      ]
     },
     "execution_count": 4,
     "metadata": {},
     "output_type": "execute_result"
    }
   ],
   "source": [
    "tf.config.list_physical_devices('GPU')"
   ]
  },
  {
   "cell_type": "markdown",
   "id": "f8794527",
   "metadata": {},
   "source": [
    "### Read Text Data"
   ]
  },
  {
   "cell_type": "markdown",
   "id": "c731aba1",
   "metadata": {},
   "source": [
    "#### First Dataset"
   ]
  },
  {
   "cell_type": "code",
   "execution_count": 5,
   "id": "f1f0d970",
   "metadata": {},
   "outputs": [],
   "source": [
    "data = pd.read_csv('./stories.csv')"
   ]
  },
  {
   "cell_type": "code",
   "execution_count": 6,
   "id": "235a4b07",
   "metadata": {},
   "outputs": [],
   "source": [
    "text_data = [i for i in data['story']]"
   ]
  },
  {
   "cell_type": "markdown",
   "id": "aea672a9",
   "metadata": {},
   "source": [
    "#### Second Dataset"
   ]
  },
  {
   "cell_type": "code",
   "execution_count": 7,
   "id": "da1c79ac",
   "metadata": {},
   "outputs": [],
   "source": [
    "with open('./jungleb.txt','r',encoding=\"utf-8\") as f:\n",
    "    text_data_1 = f.readlines()"
   ]
  },
  {
   "cell_type": "code",
   "execution_count": 8,
   "id": "d6b287a4",
   "metadata": {},
   "outputs": [
    {
     "data": {
      "text/plain": [
       "5767"
      ]
     },
     "execution_count": 8,
     "metadata": {},
     "output_type": "execute_result"
    }
   ],
   "source": [
    "len(text_data_1)"
   ]
  },
  {
   "cell_type": "code",
   "execution_count": 9,
   "id": "4b7c30e1",
   "metadata": {},
   "outputs": [],
   "source": [
    "text_data_1 = text_data_1[75:]"
   ]
  },
  {
   "cell_type": "code",
   "execution_count": 10,
   "id": "8816f28a",
   "metadata": {},
   "outputs": [
    {
     "name": "stdout",
     "output_type": "stream",
     "text": [
      "Second Data Size : 5692\n"
     ]
    }
   ],
   "source": [
    "print(f'Second Data Size : {len(text_data_1)}')"
   ]
  },
  {
   "cell_type": "markdown",
   "id": "3ee15fc1",
   "metadata": {},
   "source": [
    "### Restructure Dataset"
   ]
  },
  {
   "cell_type": "code",
   "execution_count": 11,
   "id": "bfbc059d",
   "metadata": {},
   "outputs": [],
   "source": [
    "def set_dataset(data,n=128):\n",
    "    return [data[i:i+n] for i in range(0,len(data),n)]"
   ]
  },
  {
   "cell_type": "code",
   "execution_count": 12,
   "id": "f905d108",
   "metadata": {},
   "outputs": [],
   "source": [
    "txt_data = []"
   ]
  },
  {
   "cell_type": "code",
   "execution_count": 13,
   "id": "dbeab266",
   "metadata": {},
   "outputs": [],
   "source": [
    "for i in text_data:\n",
    "    txt_data.extend(set_dataset(i))"
   ]
  },
  {
   "cell_type": "code",
   "execution_count": 14,
   "id": "f2872fd1",
   "metadata": {},
   "outputs": [],
   "source": [
    "for j in text_data_1:\n",
    "    txt_data.extend(set_dataset(j))"
   ]
  },
  {
   "cell_type": "code",
   "execution_count": 15,
   "id": "3e7f14b0",
   "metadata": {},
   "outputs": [
    {
     "name": "stdout",
     "output_type": "stream",
     "text": [
      "Reformed Data Size : 6285\n"
     ]
    }
   ],
   "source": [
    "print(f'Reformed Data Size : {len(txt_data)}')"
   ]
  },
  {
   "cell_type": "markdown",
   "id": "a8501d36",
   "metadata": {},
   "source": [
    "### Split Data "
   ]
  },
  {
   "cell_type": "code",
   "execution_count": 16,
   "id": "b6dae104",
   "metadata": {},
   "outputs": [],
   "source": [
    "n = int(len(txt_data)*0.95)"
   ]
  },
  {
   "cell_type": "code",
   "execution_count": 17,
   "id": "3bedd2a9",
   "metadata": {},
   "outputs": [],
   "source": [
    "train_data = txt_data[:n]\n",
    "val_data = txt_data[n:]"
   ]
  },
  {
   "cell_type": "code",
   "execution_count": 18,
   "id": "0fe7409b",
   "metadata": {},
   "outputs": [
    {
     "name": "stdout",
     "output_type": "stream",
     "text": [
      "Training DataSize : 5970 , Validation DataSize : 315\n"
     ]
    }
   ],
   "source": [
    "print(f'Training DataSize : {len(train_data)} , Validation DataSize : {len(val_data)}')"
   ]
  },
  {
   "cell_type": "markdown",
   "id": "ca6273fa",
   "metadata": {},
   "source": [
    "### Transform dataset as tensorflow dataset"
   ]
  },
  {
   "cell_type": "code",
   "execution_count": 19,
   "id": "79acde84",
   "metadata": {},
   "outputs": [],
   "source": [
    "Tr_Data = tf.data.Dataset.from_tensor_slices((train_data))"
   ]
  },
  {
   "cell_type": "code",
   "execution_count": 20,
   "id": "61986e2a",
   "metadata": {},
   "outputs": [],
   "source": [
    "Val_Data = tf.data.Dataset.from_tensor_slices((val_data))"
   ]
  },
  {
   "cell_type": "markdown",
   "id": "0b116086",
   "metadata": {},
   "source": [
    "### Convert text to numeric"
   ]
  },
  {
   "cell_type": "code",
   "execution_count": 21,
   "id": "7e6d489d",
   "metadata": {},
   "outputs": [],
   "source": [
    "MAX_TOKENS = 5000\n",
    "BATCH = 32\n",
    "vec_layer = tf.keras.layers.TextVectorization(max_tokens=MAX_TOKENS)"
   ]
  },
  {
   "cell_type": "code",
   "execution_count": 22,
   "id": "a3484439",
   "metadata": {},
   "outputs": [],
   "source": [
    "vec_layer.adapt(Tr_Data,batch_size=None)"
   ]
  },
  {
   "cell_type": "code",
   "execution_count": 23,
   "id": "b8d59ded",
   "metadata": {},
   "outputs": [
    {
     "data": {
      "text/plain": [
       "5000"
      ]
     },
     "execution_count": 23,
     "metadata": {},
     "output_type": "execute_result"
    }
   ],
   "source": [
    "vec_layer.vocabulary_size()"
   ]
  },
  {
   "cell_type": "code",
   "execution_count": 24,
   "id": "31e2c4c6",
   "metadata": {},
   "outputs": [],
   "source": [
    "vocabulary = vec_layer.get_vocabulary()"
   ]
  },
  {
   "cell_type": "markdown",
   "id": "2c4c31a1",
   "metadata": {},
   "source": [
    "### Prepare batchs for data"
   ]
  },
  {
   "cell_type": "code",
   "execution_count": 25,
   "id": "03440368",
   "metadata": {},
   "outputs": [],
   "source": [
    "BUFFER_SIZE = 256"
   ]
  },
  {
   "cell_type": "code",
   "execution_count": 26,
   "id": "958959e7",
   "metadata": {},
   "outputs": [],
   "source": [
    "SEQ_LEN = 256\n",
    "def prepare_batch(data):\n",
    "    x = vec_layer(data)\n",
    "    x = x[:,:(SEQ_LEN)]\n",
    "    x_tr = x[:,:-1]\n",
    "    y_tr = x[:,1:]\n",
    "    return (x_tr,y_tr)"
   ]
  },
  {
   "cell_type": "code",
   "execution_count": 27,
   "id": "89e11ff6",
   "metadata": {},
   "outputs": [],
   "source": [
    "def make_batchs(ds):\n",
    "    return (\n",
    "        ds.shuffle(BUFFER_SIZE)\n",
    "        .batch(BATCH)\n",
    "        .map(prepare_batch,tf.data.AUTOTUNE)\n",
    "        .prefetch(buffer_size=tf.data.AUTOTUNE)\n",
    "    )"
   ]
  },
  {
   "cell_type": "code",
   "execution_count": 28,
   "id": "40fa6740",
   "metadata": {},
   "outputs": [],
   "source": [
    "tr_batch = make_batchs(Tr_Data)"
   ]
  },
  {
   "cell_type": "code",
   "execution_count": 29,
   "id": "bb9f4192",
   "metadata": {},
   "outputs": [],
   "source": [
    "val_batch = make_batchs(Val_Data)"
   ]
  },
  {
   "cell_type": "markdown",
   "id": "4028c8d3",
   "metadata": {},
   "source": [
    "#### Check"
   ]
  },
  {
   "cell_type": "code",
   "execution_count": 30,
   "id": "8b474e0f",
   "metadata": {},
   "outputs": [
    {
     "name": "stdout",
     "output_type": "stream",
     "text": [
      "Feature Shape : (32, 28) , Target Shape : (32, 28)\n"
     ]
    }
   ],
   "source": [
    "for X,Y in tr_batch.take(1):\n",
    "    break\n",
    "print(f'Feature Shape : {X.shape} , Target Shape : {Y.shape}')"
   ]
  },
  {
   "cell_type": "code",
   "execution_count": 31,
   "id": "485740de",
   "metadata": {},
   "outputs": [
    {
     "name": "stdout",
     "output_type": "stream",
     "text": [
      "X Data =[3896   20  602    3   20  298  373    4  216    6]\n",
      "Y Data =[ 20 602   3  20 298 373   4 216   6   1]\n"
     ]
    }
   ],
   "source": [
    "print(f'X Data ={X[10][:10]}\\nY Data ={Y[10][:10]}')"
   ]
  },
  {
   "cell_type": "markdown",
   "id": "db9d2c74",
   "metadata": {},
   "source": [
    "## Transformer"
   ]
  },
  {
   "cell_type": "markdown",
   "id": "e0a78f12",
   "metadata": {},
   "source": [
    "### Positional Encoding"
   ]
  },
  {
   "cell_type": "code",
   "execution_count": 32,
   "id": "62f3707b",
   "metadata": {},
   "outputs": [],
   "source": [
    "def positional_encoding(lenth,depth):\n",
    "    depth = depth/2\n",
    "    pos = np.arange(lenth)[:,np.newaxis] # shape (length,1)\n",
    "    dep = np.arange(depth)[np.newaxis,:]/depth # shape (1,depth)\n",
    "    angle_rate = 1/(10000**dep) # shape (1,depth)\n",
    "    angle_rad = pos*angle_rate # shape (length,depth)\n",
    "    pos_encode = np.concatenate([np.sin(angle_rad),np.cos(angle_rad)],axis=-1)\n",
    "    return tf.cast(pos_encode,tf.float32)"
   ]
  },
  {
   "cell_type": "code",
   "execution_count": 33,
   "id": "fe16f711",
   "metadata": {},
   "outputs": [],
   "source": [
    "pos_encoding = positional_encoding(lenth=2048,depth=128)"
   ]
  },
  {
   "cell_type": "code",
   "execution_count": 34,
   "id": "7c5011f2",
   "metadata": {},
   "outputs": [
    {
     "data": {
      "text/plain": [
       "TensorShape([2048, 128])"
      ]
     },
     "execution_count": 34,
     "metadata": {},
     "output_type": "execute_result"
    }
   ],
   "source": [
    "pos_encoding.shape"
   ]
  },
  {
   "cell_type": "code",
   "execution_count": 35,
   "id": "f39f6374",
   "metadata": {},
   "outputs": [],
   "source": [
    "class PositionalEmbedding(tf.keras.layers.Layer):\n",
    "    def __init__(self,vocab_size,d_model):\n",
    "        super().__init__()\n",
    "        self.d_model = d_model\n",
    "        self.emb = tf.keras.layers.Embedding(vocab_size,d_model,mask_zero=True)\n",
    "        self.pos = positional_encoding(lenth=4096,depth=d_model)\n",
    "    def compute_mask(self, *args, **kwargs):\n",
    "        return self.emb.compute_mask(*args, **kwargs)\n",
    "    def call(self,x):\n",
    "        lenth = tf.shape(x)[1]\n",
    "        x = self.emb(x)\n",
    "        x *= tf.math.sqrt(tf.cast(self.d_model,tf.float32))\n",
    "        x = x + self.pos[tf.newaxis,:lenth,:]\n",
    "        return x"
   ]
  },
  {
   "cell_type": "code",
   "execution_count": 36,
   "id": "35a44d93",
   "metadata": {},
   "outputs": [
    {
     "data": {
      "text/plain": [
       "TensorShape([32, 28])"
      ]
     },
     "execution_count": 36,
     "metadata": {},
     "output_type": "execute_result"
    }
   ],
   "source": [
    "X.shape"
   ]
  },
  {
   "cell_type": "code",
   "execution_count": 37,
   "id": "127fe172",
   "metadata": {},
   "outputs": [],
   "source": [
    "X_emb = PositionalEmbedding(vocab_size=MAX_TOKENS,d_model=128)(X)"
   ]
  },
  {
   "cell_type": "code",
   "execution_count": 38,
   "id": "bc8cdea9",
   "metadata": {},
   "outputs": [
    {
     "data": {
      "text/plain": [
       "TensorShape([32, 28, 128])"
      ]
     },
     "execution_count": 38,
     "metadata": {},
     "output_type": "execute_result"
    }
   ],
   "source": [
    "X_emb.shape"
   ]
  },
  {
   "cell_type": "markdown",
   "id": "34c5518d",
   "metadata": {},
   "source": [
    "#### Attention"
   ]
  },
  {
   "cell_type": "code",
   "execution_count": 39,
   "id": "e92e253e",
   "metadata": {},
   "outputs": [],
   "source": [
    "class BaseAttention(tf.keras.layers.Layer):\n",
    "    def __init__(self,**kwargs):\n",
    "        super().__init__()\n",
    "        self.mha = tf.keras.layers.MultiHeadAttention(**kwargs)\n",
    "        self.layernorm = tf.keras.layers.LayerNormalization()\n",
    "        self.add = tf.keras.layers.Add()\n",
    "\n",
    "class Attention(BaseAttention):\n",
    "    def call(self,x):\n",
    "        att_output,att_score= self.mha(query=x,value=x,key=x,\n",
    "                                       return_attention_scores=True,use_causal_mask=True)\n",
    "        self.attention_score = att_score\n",
    "        x = self.add([x,att_output])\n",
    "        x = self.layernorm(x)\n",
    "        return x"
   ]
  },
  {
   "cell_type": "code",
   "execution_count": 40,
   "id": "8fc86311",
   "metadata": {},
   "outputs": [],
   "source": [
    "simple_att = Attention(num_heads=2,key_dim=512)"
   ]
  },
  {
   "cell_type": "code",
   "execution_count": 41,
   "id": "2e4dee5a",
   "metadata": {},
   "outputs": [
    {
     "data": {
      "text/plain": [
       "TensorShape([32, 28, 128])"
      ]
     },
     "execution_count": 41,
     "metadata": {},
     "output_type": "execute_result"
    }
   ],
   "source": [
    "simple_att(X_emb).shape"
   ]
  },
  {
   "cell_type": "markdown",
   "id": "b9c35741",
   "metadata": {},
   "source": [
    "### FeedForward Network"
   ]
  },
  {
   "cell_type": "code",
   "execution_count": 42,
   "id": "8d669689",
   "metadata": {},
   "outputs": [],
   "source": [
    "class FeedForwardNetwork(tf.keras.layers.Layer):\n",
    "    def __init__(self,d_model,dff,drop_out=0.1):\n",
    "        super().__init__()\n",
    "        self.net = tf.keras.Sequential([\n",
    "            tf.keras.layers.Dense(dff,activation='relu'),\n",
    "            tf.keras.layers.Dense(d_model),\n",
    "            tf.keras.layers.Dropout(drop_out)\n",
    "        ])\n",
    "        self.layernorm = tf.keras.layers.LayerNormalization()\n",
    "        self.add = tf.keras.layers.Add()\n",
    "    def call(self,x):\n",
    "        x = self.add([x,self.net(x)])\n",
    "        x = self.layernorm(x)\n",
    "        return x"
   ]
  },
  {
   "cell_type": "markdown",
   "id": "8c975cb0",
   "metadata": {},
   "source": [
    "### Create Decoder Layer"
   ]
  },
  {
   "cell_type": "code",
   "execution_count": 43,
   "id": "3f9eabc9",
   "metadata": {},
   "outputs": [],
   "source": [
    "class Decoderlayer(tf.keras.layers.Layer):\n",
    "    def __init__(self,*,d_model,dff,num_heads,dropout_rate=0.1):\n",
    "        super(Decoderlayer,self).__init__()\n",
    "        self.attention = Attention(num_heads=num_heads,key_dim=d_model,dropout=dropout_rate)\n",
    "        self.feed = FeedForwardNetwork(d_model,dff=dff)\n",
    "    def call(self,x):\n",
    "        x = self.attention(x)\n",
    "        self.attention_score = self.attention.attention_score\n",
    "        x = self.feed(x)\n",
    "        return x"
   ]
  },
  {
   "cell_type": "markdown",
   "id": "b7098fd9",
   "metadata": {},
   "source": [
    "### Transformer Decoder"
   ]
  },
  {
   "cell_type": "code",
   "execution_count": 44,
   "id": "eab27c6d",
   "metadata": {},
   "outputs": [],
   "source": [
    "class Decoder(tf.keras.layers.Layer):\n",
    "    def __init__(self,*,num_layers,d_model,dff,num_heads,vocab_size,dropout_rate=0.1):\n",
    "        super(Decoder,self).__init__()\n",
    "        self.d_model = d_model\n",
    "        self.vocab_size = vocab_size\n",
    "        self.num_layers = num_layers\n",
    "        self.pos_enc = PositionalEmbedding(vocab_size=self.vocab_size,d_model=self.d_model)\n",
    "        self.dropout = tf.keras.layers.Dropout(dropout_rate)\n",
    "        self.decoder_layers = [\n",
    "            Decoderlayer(\n",
    "                d_model=self.d_model,dff=dff,num_heads=num_heads,dropout_rate=dropout_rate\n",
    "            )\n",
    "            for _ in range(self.num_layers)\n",
    "        ]\n",
    "        self.attention_score = None\n",
    "    def call(self,x):\n",
    "        x = self.pos_enc(x)\n",
    "        x = self.dropout(x)\n",
    "        for i in range(self.num_layers):\n",
    "            x = self.decoder_layers[i](x)\n",
    "        self.attention_score = self.decoder_layers[-1].attention_score\n",
    "        return x"
   ]
  },
  {
   "cell_type": "markdown",
   "id": "588e21c4",
   "metadata": {},
   "source": [
    "### Test the Transformer Decoder"
   ]
  },
  {
   "cell_type": "code",
   "execution_count": 45,
   "id": "63e35f17",
   "metadata": {},
   "outputs": [],
   "source": [
    "sample_decoder = Decoder(num_layers=4,d_model=512,dff=2048,num_heads=8,vocab_size=2000)"
   ]
  },
  {
   "cell_type": "code",
   "execution_count": 46,
   "id": "1dde1bff",
   "metadata": {},
   "outputs": [],
   "source": [
    "output = sample_decoder(X)"
   ]
  },
  {
   "cell_type": "code",
   "execution_count": 47,
   "id": "4889ba0a",
   "metadata": {},
   "outputs": [
    {
     "data": {
      "text/plain": [
       "TensorShape([32, 28, 512])"
      ]
     },
     "execution_count": 47,
     "metadata": {},
     "output_type": "execute_result"
    }
   ],
   "source": [
    "output.shape"
   ]
  },
  {
   "cell_type": "markdown",
   "id": "6ab78424",
   "metadata": {},
   "source": [
    "### Define Transformer"
   ]
  },
  {
   "cell_type": "code",
   "execution_count": 48,
   "id": "585895e0",
   "metadata": {},
   "outputs": [],
   "source": [
    "class Transformer(tf.keras.Model):\n",
    "    def __init__(self,*,num_layers,d_model,dff,num_heads,vocab_size,dropout_rate=0.1):\n",
    "        super().__init__()\n",
    "        self.decoder = Decoder(num_layers=num_layers,\n",
    "                              num_heads=num_heads,\n",
    "                              d_model=d_model,\n",
    "                              dff=dff,\n",
    "                              vocab_size=vocab_size,\n",
    "                              dropout_rate=dropout_rate)\n",
    "        self.output_layer = tf.keras.layers.Dense(vocab_size)\n",
    "    def call(self,inputs):\n",
    "        x = inputs\n",
    "        x = self.decoder(x)\n",
    "        logits = self.output_layer(x)\n",
    "        try:\n",
    "            del logits._keras_mask\n",
    "        except AttributeError:\n",
    "            pass\n",
    "        return logits"
   ]
  },
  {
   "cell_type": "code",
   "execution_count": 49,
   "id": "7b5d2ad7",
   "metadata": {},
   "outputs": [],
   "source": [
    "transformer = Transformer(num_layers=4, \n",
    "                          d_model=256, \n",
    "                          dff=2048, \n",
    "                          num_heads=8, \n",
    "                          vocab_size=MAX_TOKENS, \n",
    "                          dropout_rate=0.2)"
   ]
  },
  {
   "cell_type": "code",
   "execution_count": 50,
   "id": "3daa7f73",
   "metadata": {},
   "outputs": [],
   "source": [
    "output = transformer(X)"
   ]
  },
  {
   "cell_type": "code",
   "execution_count": 51,
   "id": "4df48ab1",
   "metadata": {},
   "outputs": [
    {
     "data": {
      "text/plain": [
       "TensorShape([32, 28, 5000])"
      ]
     },
     "execution_count": 51,
     "metadata": {},
     "output_type": "execute_result"
    }
   ],
   "source": [
    "X.shape\n",
    "output.shape"
   ]
  },
  {
   "cell_type": "code",
   "execution_count": 52,
   "id": "1197075b",
   "metadata": {},
   "outputs": [
    {
     "name": "stdout",
     "output_type": "stream",
     "text": [
      "Model: \"transformer\"\n",
      "_________________________________________________________________\n",
      " Layer (type)                Output Shape              Param #   \n",
      "=================================================================\n",
      " decoder_1 (Decoder)         multiple                  13901824  \n",
      "                                                                 \n",
      " dense_16 (Dense)            multiple                  1285000   \n",
      "                                                                 \n",
      "=================================================================\n",
      "Total params: 15,186,824\n",
      "Trainable params: 15,186,824\n",
      "Non-trainable params: 0\n",
      "_________________________________________________________________\n"
     ]
    }
   ],
   "source": [
    "transformer.summary()"
   ]
  },
  {
   "cell_type": "markdown",
   "id": "36bc9d45",
   "metadata": {},
   "source": [
    "### Create Custom Scheduler"
   ]
  },
  {
   "cell_type": "code",
   "execution_count": 53,
   "id": "bbc30a77",
   "metadata": {},
   "outputs": [],
   "source": [
    "class CustomScheduler(tf.keras.optimizers.schedules.LearningRateSchedule):\n",
    "    def __init__(self,d_model,warmup=4000):\n",
    "        super().__init__()\n",
    "        self.d_model = d_model\n",
    "        self.d_model = tf.cast(self.d_model,tf.float32)\n",
    "        self.warmup = warmup\n",
    "    def __call__(self,step):\n",
    "        step = tf.cast(step,tf.float32)\n",
    "        arg1 = tf.math.rsqrt(step)\n",
    "        arg2 = step * (self.warmup**-1.5)\n",
    "        return tf.math.rsqrt(self.d_model) * tf.math.minimum(arg1, arg2)"
   ]
  },
  {
   "cell_type": "code",
   "execution_count": 54,
   "id": "74c9a231",
   "metadata": {},
   "outputs": [],
   "source": [
    "learning_rate = CustomScheduler(d_model=512)\n",
    "optimizer = tf.keras.optimizers.Adam(learning_rate, beta_1=0.9, beta_2=0.98, epsilon=1e-9)"
   ]
  },
  {
   "cell_type": "markdown",
   "id": "c2917896",
   "metadata": {},
   "source": [
    "### Create loss & Accuracy"
   ]
  },
  {
   "cell_type": "code",
   "execution_count": 55,
   "id": "5da0fe90",
   "metadata": {},
   "outputs": [],
   "source": [
    "def masked_loss(label, pred):\n",
    "    mask = label != 0\n",
    "    loss_object = tf.keras.losses.SparseCategoricalCrossentropy(\n",
    "        from_logits=True, reduction=\"none\"\n",
    "    )\n",
    "    loss = loss_object(label, pred)\n",
    "\n",
    "    mask = tf.cast(mask, dtype=loss.dtype)\n",
    "    loss *= mask\n",
    "    loss = tf.reduce_sum(loss) / tf.reduce_sum(mask)\n",
    "    return loss\n",
    "\n",
    "\n",
    "def masked_accuracy(label, pred):\n",
    "    pred = tf.argmax(pred, axis=2)\n",
    "    label = tf.cast(label, pred.dtype)\n",
    "    match = label == pred\n",
    "\n",
    "    mask = label != 0\n",
    "\n",
    "    match = match & mask\n",
    "\n",
    "    match = tf.cast(match, dtype=tf.float32)\n",
    "    mask = tf.cast(mask, dtype=tf.float32)\n",
    "    return tf.reduce_sum(match) / tf.reduce_sum(mask)"
   ]
  },
  {
   "cell_type": "markdown",
   "id": "8c32ed74",
   "metadata": {},
   "source": [
    "### Train"
   ]
  },
  {
   "cell_type": "code",
   "execution_count": 56,
   "id": "8b69fbdf",
   "metadata": {},
   "outputs": [],
   "source": [
    "transformer.compile(loss=masked_loss, optimizer=optimizer, metrics=[masked_accuracy])"
   ]
  },
  {
   "cell_type": "code",
   "execution_count": 57,
   "id": "764fb185",
   "metadata": {},
   "outputs": [
    {
     "name": "stdout",
     "output_type": "stream",
     "text": [
      "Epoch 1/500\n",
      "187/187 [==============================] - 12s 46ms/step - loss: 8.0363 - masked_accuracy: 0.0518 - val_loss: 7.0760 - val_masked_accuracy: 0.0632\n",
      "Epoch 2/500\n",
      "187/187 [==============================] - 8s 43ms/step - loss: 6.9344 - masked_accuracy: 0.0664 - val_loss: 5.7247 - val_masked_accuracy: 0.0647\n",
      "Epoch 3/500\n",
      "187/187 [==============================] - 8s 42ms/step - loss: 6.2174 - masked_accuracy: 0.0898 - val_loss: 5.3955 - val_masked_accuracy: 0.1203\n",
      "Epoch 4/500\n",
      "187/187 [==============================] - 8s 43ms/step - loss: 5.9253 - masked_accuracy: 0.1148 - val_loss: 5.1472 - val_masked_accuracy: 0.1899\n",
      "Epoch 5/500\n",
      "187/187 [==============================] - 8s 43ms/step - loss: 5.6488 - masked_accuracy: 0.1344 - val_loss: 5.0736 - val_masked_accuracy: 0.1521\n",
      "Epoch 6/500\n",
      "187/187 [==============================] - 8s 43ms/step - loss: 5.4001 - masked_accuracy: 0.1484 - val_loss: 5.0015 - val_masked_accuracy: 0.1517\n",
      "Epoch 7/500\n",
      "187/187 [==============================] - 8s 43ms/step - loss: 5.1852 - masked_accuracy: 0.1603 - val_loss: 4.9326 - val_masked_accuracy: 0.1634\n",
      "Epoch 8/500\n",
      "187/187 [==============================] - 8s 44ms/step - loss: 4.9972 - masked_accuracy: 0.1710 - val_loss: 4.9376 - val_masked_accuracy: 0.1586\n",
      "Epoch 9/500\n",
      "187/187 [==============================] - 8s 44ms/step - loss: 4.8272 - masked_accuracy: 0.1802 - val_loss: 4.8607 - val_masked_accuracy: 0.1688\n",
      "Epoch 10/500\n",
      "187/187 [==============================] - 8s 44ms/step - loss: 4.6617 - masked_accuracy: 0.1913 - val_loss: 4.7261 - val_masked_accuracy: 0.1751\n",
      "Epoch 11/500\n",
      "187/187 [==============================] - 8s 44ms/step - loss: 4.5098 - masked_accuracy: 0.2008 - val_loss: 4.9101 - val_masked_accuracy: 0.1366\n",
      "Epoch 12/500\n",
      "187/187 [==============================] - 8s 44ms/step - loss: 4.3456 - masked_accuracy: 0.2134 - val_loss: 4.8436 - val_masked_accuracy: 0.1611\n",
      "Epoch 13/500\n",
      "187/187 [==============================] - 8s 44ms/step - loss: 4.1800 - masked_accuracy: 0.2254 - val_loss: 4.9117 - val_masked_accuracy: 0.1610\n",
      "Epoch 14/500\n",
      "187/187 [==============================] - 8s 44ms/step - loss: 4.0124 - masked_accuracy: 0.2393 - val_loss: 4.6964 - val_masked_accuracy: 0.1848\n",
      "Epoch 15/500\n",
      "187/187 [==============================] - 12s 63ms/step - loss: 3.8509 - masked_accuracy: 0.2532 - val_loss: 4.9134 - val_masked_accuracy: 0.1592\n",
      "Epoch 16/500\n",
      "187/187 [==============================] - 8s 44ms/step - loss: 3.6571 - masked_accuracy: 0.2734 - val_loss: 5.0588 - val_masked_accuracy: 0.1382\n",
      "Epoch 17/500\n",
      "187/187 [==============================] - 12s 62ms/step - loss: 3.4817 - masked_accuracy: 0.2924 - val_loss: 4.9980 - val_masked_accuracy: 0.1647\n",
      "Epoch 18/500\n",
      "187/187 [==============================] - 12s 62ms/step - loss: 3.3001 - masked_accuracy: 0.3148 - val_loss: 5.2134 - val_masked_accuracy: 0.1457\n",
      "Epoch 19/500\n",
      "187/187 [==============================] - 12s 62ms/step - loss: 3.1195 - masked_accuracy: 0.3357 - val_loss: 5.4013 - val_masked_accuracy: 0.1415\n",
      "Epoch 20/500\n",
      "187/187 [==============================] - 12s 62ms/step - loss: 2.9526 - masked_accuracy: 0.3592 - val_loss: 5.5794 - val_masked_accuracy: 0.1410\n",
      "Epoch 21/500\n",
      "187/187 [==============================] - 9s 49ms/step - loss: 2.7856 - masked_accuracy: 0.3822 - val_loss: 5.5907 - val_masked_accuracy: 0.1358\n",
      "Epoch 22/500\n",
      "187/187 [==============================] - 15s 82ms/step - loss: 2.6070 - masked_accuracy: 0.4123 - val_loss: 5.6111 - val_masked_accuracy: 0.1337\n",
      "Epoch 23/500\n",
      "187/187 [==============================] - 8s 44ms/step - loss: 2.4139 - masked_accuracy: 0.4430 - val_loss: 5.9130 - val_masked_accuracy: 0.1316\n",
      "Epoch 24/500\n",
      "187/187 [==============================] - 15s 79ms/step - loss: 2.1996 - masked_accuracy: 0.4850 - val_loss: 6.0670 - val_masked_accuracy: 0.1314\n",
      "Epoch 25/500\n",
      "187/187 [==============================] - 12s 63ms/step - loss: 1.9971 - masked_accuracy: 0.5236 - val_loss: 6.2370 - val_masked_accuracy: 0.1101\n",
      "Epoch 26/500\n",
      "187/187 [==============================] - 14s 75ms/step - loss: 1.8242 - masked_accuracy: 0.5624 - val_loss: 6.3592 - val_masked_accuracy: 0.1333\n",
      "Epoch 27/500\n",
      "187/187 [==============================] - 8s 44ms/step - loss: 1.6725 - masked_accuracy: 0.5909 - val_loss: 6.6657 - val_masked_accuracy: 0.1139\n",
      "Epoch 28/500\n",
      "187/187 [==============================] - 19s 101ms/step - loss: 1.5175 - masked_accuracy: 0.6266 - val_loss: 6.5333 - val_masked_accuracy: 0.1224\n",
      "Epoch 29/500\n",
      "187/187 [==============================] - 8s 44ms/step - loss: 1.4001 - masked_accuracy: 0.6555 - val_loss: 6.8761 - val_masked_accuracy: 0.1210\n",
      "Epoch 30/500\n",
      "187/187 [==============================] - 17s 93ms/step - loss: 1.2811 - masked_accuracy: 0.6820 - val_loss: 7.1244 - val_masked_accuracy: 0.1065\n",
      "Epoch 31/500\n",
      "187/187 [==============================] - 9s 49ms/step - loss: 1.1980 - masked_accuracy: 0.7007 - val_loss: 7.1261 - val_masked_accuracy: 0.1151\n",
      "Epoch 32/500\n",
      "187/187 [==============================] - 10s 55ms/step - loss: 1.1207 - masked_accuracy: 0.7187 - val_loss: 7.1813 - val_masked_accuracy: 0.1211\n",
      "Epoch 33/500\n",
      "187/187 [==============================] - 19s 97ms/step - loss: 1.0498 - masked_accuracy: 0.7366 - val_loss: 7.4337 - val_masked_accuracy: 0.1103\n",
      "Epoch 34/500\n",
      "187/187 [==============================] - 8s 44ms/step - loss: 1.0013 - masked_accuracy: 0.7499 - val_loss: 7.3402 - val_masked_accuracy: 0.1026\n",
      "Epoch 35/500\n",
      "187/187 [==============================] - 12s 64ms/step - loss: 0.9468 - masked_accuracy: 0.7603 - val_loss: 7.4896 - val_masked_accuracy: 0.1040\n",
      "Epoch 36/500\n",
      "187/187 [==============================] - 17s 93ms/step - loss: 0.8998 - masked_accuracy: 0.7722 - val_loss: 7.5294 - val_masked_accuracy: 0.1260\n",
      "Epoch 37/500\n",
      "187/187 [==============================] - 8s 44ms/step - loss: 0.8671 - masked_accuracy: 0.7811 - val_loss: 7.6184 - val_masked_accuracy: 0.1139\n",
      "Epoch 38/500\n",
      "187/187 [==============================] - 12s 64ms/step - loss: 0.8302 - masked_accuracy: 0.7889 - val_loss: 7.6004 - val_masked_accuracy: 0.1155\n",
      "Epoch 39/500\n",
      "187/187 [==============================] - 9s 47ms/step - loss: 0.7898 - masked_accuracy: 0.8004 - val_loss: 7.5866 - val_masked_accuracy: 0.1328\n",
      "Epoch 40/500\n",
      "187/187 [==============================] - 10s 55ms/step - loss: 0.7823 - masked_accuracy: 0.8038 - val_loss: 7.9670 - val_masked_accuracy: 0.1026\n",
      "Epoch 41/500\n",
      "187/187 [==============================] - 10s 56ms/step - loss: 0.7550 - masked_accuracy: 0.8098 - val_loss: 7.8230 - val_masked_accuracy: 0.1104\n",
      "Epoch 42/500\n",
      "187/187 [==============================] - 11s 58ms/step - loss: 0.7248 - masked_accuracy: 0.8153 - val_loss: 7.9018 - val_masked_accuracy: 0.1175\n",
      "Epoch 43/500\n",
      "187/187 [==============================] - 11s 56ms/step - loss: 0.7008 - masked_accuracy: 0.8233 - val_loss: 8.1623 - val_masked_accuracy: 0.0936\n",
      "Epoch 44/500\n",
      "187/187 [==============================] - 11s 59ms/step - loss: 0.6778 - masked_accuracy: 0.8300 - val_loss: 8.1733 - val_masked_accuracy: 0.1042\n",
      "Epoch 45/500\n",
      "187/187 [==============================] - 12s 62ms/step - loss: 0.6679 - masked_accuracy: 0.8326 - val_loss: 8.2507 - val_masked_accuracy: 0.0985\n",
      "Epoch 46/500\n",
      "187/187 [==============================] - 11s 58ms/step - loss: 0.6481 - masked_accuracy: 0.8369 - val_loss: 7.9886 - val_masked_accuracy: 0.1245\n",
      "Epoch 47/500\n",
      "187/187 [==============================] - 11s 61ms/step - loss: 0.6311 - masked_accuracy: 0.8421 - val_loss: 8.0935 - val_masked_accuracy: 0.1032\n",
      "Epoch 48/500\n",
      "187/187 [==============================] - 11s 57ms/step - loss: 0.6240 - masked_accuracy: 0.8430 - val_loss: 8.0745 - val_masked_accuracy: 0.1035\n",
      "Epoch 49/500\n",
      "187/187 [==============================] - 12s 67ms/step - loss: 0.6072 - masked_accuracy: 0.8476 - val_loss: 8.1499 - val_masked_accuracy: 0.1124\n",
      "Epoch 50/500\n",
      "187/187 [==============================] - 10s 54ms/step - loss: 0.5861 - masked_accuracy: 0.8531 - val_loss: 8.2168 - val_masked_accuracy: 0.1054\n",
      "Epoch 51/500\n",
      "187/187 [==============================] - 12s 64ms/step - loss: 0.5841 - masked_accuracy: 0.8543 - val_loss: 8.4025 - val_masked_accuracy: 0.1019\n",
      "Epoch 52/500\n"
     ]
    },
    {
     "name": "stdout",
     "output_type": "stream",
     "text": [
      "187/187 [==============================] - 11s 61ms/step - loss: 0.5654 - masked_accuracy: 0.8584 - val_loss: 8.1541 - val_masked_accuracy: 0.1059\n",
      "Epoch 53/500\n",
      "187/187 [==============================] - 12s 67ms/step - loss: 0.5586 - masked_accuracy: 0.8599 - val_loss: 8.1851 - val_masked_accuracy: 0.1001\n",
      "Epoch 54/500\n",
      "187/187 [==============================] - 10s 54ms/step - loss: 0.5459 - masked_accuracy: 0.8634 - val_loss: 8.4208 - val_masked_accuracy: 0.0928\n",
      "Epoch 55/500\n",
      "187/187 [==============================] - 12s 65ms/step - loss: 0.5385 - masked_accuracy: 0.8660 - val_loss: 8.6799 - val_masked_accuracy: 0.0861\n",
      "Epoch 56/500\n",
      "187/187 [==============================] - 11s 58ms/step - loss: 0.5286 - masked_accuracy: 0.8694 - val_loss: 8.2372 - val_masked_accuracy: 0.1039\n",
      "Epoch 57/500\n",
      "187/187 [==============================] - 12s 62ms/step - loss: 0.5231 - masked_accuracy: 0.8691 - val_loss: 8.3698 - val_masked_accuracy: 0.1039\n",
      "Epoch 58/500\n",
      "187/187 [==============================] - 11s 60ms/step - loss: 0.5144 - masked_accuracy: 0.8712 - val_loss: 8.5594 - val_masked_accuracy: 0.0970\n",
      "Epoch 59/500\n",
      "187/187 [==============================] - 14s 76ms/step - loss: 0.5054 - masked_accuracy: 0.8744 - val_loss: 8.5474 - val_masked_accuracy: 0.0929\n",
      "Epoch 60/500\n",
      "187/187 [==============================] - 9s 50ms/step - loss: 0.4983 - masked_accuracy: 0.8772 - val_loss: 8.5019 - val_masked_accuracy: 0.0968\n",
      "Epoch 61/500\n",
      "187/187 [==============================] - 12s 64ms/step - loss: 0.4898 - masked_accuracy: 0.8781 - val_loss: 8.6092 - val_masked_accuracy: 0.0906\n",
      "Epoch 62/500\n",
      "187/187 [==============================] - 12s 65ms/step - loss: 0.4801 - masked_accuracy: 0.8808 - val_loss: 8.4656 - val_masked_accuracy: 0.1036\n",
      "Epoch 63/500\n",
      "187/187 [==============================] - 11s 60ms/step - loss: 0.4850 - masked_accuracy: 0.8796 - val_loss: 8.2719 - val_masked_accuracy: 0.1023\n",
      "Epoch 64/500\n",
      "187/187 [==============================] - 12s 62ms/step - loss: 0.4715 - masked_accuracy: 0.8824 - val_loss: 8.6747 - val_masked_accuracy: 0.0968\n",
      "Epoch 65/500\n",
      "187/187 [==============================] - 12s 64ms/step - loss: 0.4657 - masked_accuracy: 0.8829 - val_loss: 8.5927 - val_masked_accuracy: 0.0968\n",
      "Epoch 66/500\n",
      "187/187 [==============================] - 11s 59ms/step - loss: 0.4547 - masked_accuracy: 0.8864 - val_loss: 8.7853 - val_masked_accuracy: 0.0932\n",
      "Epoch 67/500\n",
      "187/187 [==============================] - 12s 63ms/step - loss: 0.4562 - masked_accuracy: 0.8866 - val_loss: 8.2222 - val_masked_accuracy: 0.1078\n",
      "Epoch 68/500\n",
      "187/187 [==============================] - 12s 63ms/step - loss: 0.4495 - masked_accuracy: 0.8877 - val_loss: 8.7610 - val_masked_accuracy: 0.0945\n",
      "Epoch 69/500\n",
      "187/187 [==============================] - 14s 75ms/step - loss: 0.4429 - masked_accuracy: 0.8896 - val_loss: 8.6841 - val_masked_accuracy: 0.0887\n",
      "Epoch 70/500\n",
      "187/187 [==============================] - 10s 53ms/step - loss: 0.4452 - masked_accuracy: 0.8899 - val_loss: 8.4405 - val_masked_accuracy: 0.1105\n",
      "Epoch 71/500\n",
      "187/187 [==============================] - 11s 59ms/step - loss: 0.4327 - masked_accuracy: 0.8937 - val_loss: 8.2451 - val_masked_accuracy: 0.1050\n",
      "Epoch 72/500\n",
      "187/187 [==============================] - 12s 66ms/step - loss: 0.4315 - masked_accuracy: 0.8928 - val_loss: 8.5244 - val_masked_accuracy: 0.1060\n",
      "Epoch 73/500\n",
      "187/187 [==============================] - 11s 60ms/step - loss: 0.4216 - masked_accuracy: 0.8945 - val_loss: 8.4582 - val_masked_accuracy: 0.1067\n",
      "Epoch 74/500\n",
      "187/187 [==============================] - 12s 62ms/step - loss: 0.4274 - masked_accuracy: 0.8935 - val_loss: 8.6241 - val_masked_accuracy: 0.0964\n",
      "Epoch 75/500\n",
      "187/187 [==============================] - 12s 64ms/step - loss: 0.4122 - masked_accuracy: 0.8974 - val_loss: 8.7690 - val_masked_accuracy: 0.0944\n",
      "Epoch 76/500\n",
      "187/187 [==============================] - 12s 65ms/step - loss: 0.4106 - masked_accuracy: 0.8975 - val_loss: 8.7137 - val_masked_accuracy: 0.1020\n",
      "Epoch 77/500\n",
      "187/187 [==============================] - 13s 69ms/step - loss: 0.4105 - masked_accuracy: 0.8978 - val_loss: 8.6236 - val_masked_accuracy: 0.1066\n",
      "Epoch 78/500\n",
      "187/187 [==============================] - 11s 58ms/step - loss: 0.4002 - masked_accuracy: 0.9002 - val_loss: 8.7887 - val_masked_accuracy: 0.0979\n",
      "Epoch 79/500\n",
      "187/187 [==============================] - 12s 67ms/step - loss: 0.4034 - masked_accuracy: 0.8984 - val_loss: 8.7356 - val_masked_accuracy: 0.0926\n",
      "Epoch 80/500\n",
      "187/187 [==============================] - 11s 60ms/step - loss: 0.3983 - masked_accuracy: 0.9005 - val_loss: 8.6107 - val_masked_accuracy: 0.0975\n",
      "Epoch 81/500\n",
      "187/187 [==============================] - 12s 64ms/step - loss: 0.3918 - masked_accuracy: 0.9017 - val_loss: 8.9063 - val_masked_accuracy: 0.0965\n",
      "Epoch 82/500\n",
      "187/187 [==============================] - 12s 66ms/step - loss: 0.3900 - masked_accuracy: 0.9008 - val_loss: 8.8733 - val_masked_accuracy: 0.0853\n",
      "Epoch 83/500\n",
      "187/187 [==============================] - 13s 68ms/step - loss: 0.3864 - masked_accuracy: 0.9033 - val_loss: 8.6370 - val_masked_accuracy: 0.0977\n",
      "Epoch 84/500\n",
      "187/187 [==============================] - 11s 56ms/step - loss: 0.3827 - masked_accuracy: 0.9040 - val_loss: 8.7655 - val_masked_accuracy: 0.1003\n",
      "Epoch 85/500\n",
      "187/187 [==============================] - 13s 70ms/step - loss: 0.3803 - masked_accuracy: 0.9055 - val_loss: 8.7229 - val_masked_accuracy: 0.0996\n",
      "Epoch 86/500\n",
      "187/187 [==============================] - 12s 62ms/step - loss: 0.3746 - masked_accuracy: 0.9072 - val_loss: 8.9666 - val_masked_accuracy: 0.0965\n",
      "Epoch 87/500\n",
      "187/187 [==============================] - 12s 66ms/step - loss: 0.3762 - masked_accuracy: 0.9067 - val_loss: 8.7753 - val_masked_accuracy: 0.1025\n",
      "Epoch 88/500\n",
      "187/187 [==============================] - 11s 61ms/step - loss: 0.3763 - masked_accuracy: 0.9058 - val_loss: 8.6141 - val_masked_accuracy: 0.1042\n",
      "Epoch 89/500\n",
      "187/187 [==============================] - 12s 67ms/step - loss: 0.3672 - masked_accuracy: 0.9082 - val_loss: 8.7879 - val_masked_accuracy: 0.0890\n",
      "Epoch 90/500\n",
      "187/187 [==============================] - 12s 64ms/step - loss: 0.3669 - masked_accuracy: 0.9079 - val_loss: 8.6283 - val_masked_accuracy: 0.0973\n",
      "Epoch 91/500\n",
      "187/187 [==============================] - 11s 58ms/step - loss: 0.3615 - masked_accuracy: 0.9090 - val_loss: 8.6959 - val_masked_accuracy: 0.1067\n",
      "Epoch 92/500\n",
      "187/187 [==============================] - 12s 66ms/step - loss: 0.3621 - masked_accuracy: 0.9098 - val_loss: 8.8042 - val_masked_accuracy: 0.0973\n",
      "Epoch 93/500\n",
      "187/187 [==============================] - 12s 66ms/step - loss: 0.3591 - masked_accuracy: 0.9101 - val_loss: 8.6340 - val_masked_accuracy: 0.1062\n",
      "Epoch 94/500\n",
      "187/187 [==============================] - 11s 60ms/step - loss: 0.3591 - masked_accuracy: 0.9091 - val_loss: 8.5930 - val_masked_accuracy: 0.1096\n",
      "Epoch 95/500\n",
      "187/187 [==============================] - 12s 65ms/step - loss: 0.3533 - masked_accuracy: 0.9113 - val_loss: 8.8866 - val_masked_accuracy: 0.0963\n",
      "Epoch 96/500\n",
      "187/187 [==============================] - 12s 62ms/step - loss: 0.3526 - masked_accuracy: 0.9106 - val_loss: 8.6476 - val_masked_accuracy: 0.1024\n",
      "Epoch 97/500\n",
      "187/187 [==============================] - 13s 69ms/step - loss: 0.3516 - masked_accuracy: 0.9116 - val_loss: 8.3864 - val_masked_accuracy: 0.1131\n",
      "Epoch 98/500\n",
      "187/187 [==============================] - 11s 58ms/step - loss: 0.3502 - masked_accuracy: 0.9127 - val_loss: 9.0157 - val_masked_accuracy: 0.0902\n",
      "Epoch 99/500\n",
      "187/187 [==============================] - 12s 66ms/step - loss: 0.3405 - masked_accuracy: 0.9138 - val_loss: 8.8839 - val_masked_accuracy: 0.0888\n",
      "Epoch 100/500\n",
      "187/187 [==============================] - 12s 65ms/step - loss: 0.3454 - masked_accuracy: 0.9128 - val_loss: 8.9203 - val_masked_accuracy: 0.0961\n",
      "Epoch 101/500\n",
      "187/187 [==============================] - 13s 70ms/step - loss: 0.3467 - masked_accuracy: 0.9116 - val_loss: 8.6875 - val_masked_accuracy: 0.1041\n",
      "Epoch 102/500\n",
      "187/187 [==============================] - 12s 66ms/step - loss: 0.3377 - masked_accuracy: 0.9145 - val_loss: 8.9140 - val_masked_accuracy: 0.0967\n",
      "Epoch 103/500\n"
     ]
    },
    {
     "name": "stdout",
     "output_type": "stream",
     "text": [
      "187/187 [==============================] - 12s 62ms/step - loss: 0.3389 - masked_accuracy: 0.9131 - val_loss: 8.7484 - val_masked_accuracy: 0.1044\n",
      "Epoch 104/500\n",
      "187/187 [==============================] - 11s 59ms/step - loss: 0.3355 - masked_accuracy: 0.9151 - val_loss: 8.7309 - val_masked_accuracy: 0.0972\n",
      "Epoch 105/500\n",
      "187/187 [==============================] - 12s 63ms/step - loss: 0.3346 - masked_accuracy: 0.9147 - val_loss: 8.8262 - val_masked_accuracy: 0.0968\n",
      "Epoch 106/500\n",
      "187/187 [==============================] - 12s 67ms/step - loss: 0.3368 - masked_accuracy: 0.9148 - val_loss: 8.7873 - val_masked_accuracy: 0.1039\n",
      "Epoch 107/500\n",
      "187/187 [==============================] - 12s 66ms/step - loss: 0.3305 - masked_accuracy: 0.9161 - val_loss: 8.7592 - val_masked_accuracy: 0.1043\n",
      "Epoch 108/500\n",
      "187/187 [==============================] - 11s 57ms/step - loss: 0.3317 - masked_accuracy: 0.9160 - val_loss: 8.7099 - val_masked_accuracy: 0.1013\n",
      "Epoch 109/500\n",
      "187/187 [==============================] - 11s 59ms/step - loss: 0.3263 - masked_accuracy: 0.9175 - val_loss: 8.7602 - val_masked_accuracy: 0.1090\n",
      "Epoch 110/500\n",
      "187/187 [==============================] - 12s 65ms/step - loss: 0.3293 - masked_accuracy: 0.9156 - val_loss: 8.8837 - val_masked_accuracy: 0.0995\n",
      "Epoch 111/500\n",
      "187/187 [==============================] - 11s 59ms/step - loss: 0.3247 - masked_accuracy: 0.9174 - val_loss: 8.6344 - val_masked_accuracy: 0.0991\n",
      "Epoch 112/500\n",
      "187/187 [==============================] - 11s 61ms/step - loss: 0.3221 - masked_accuracy: 0.9177 - val_loss: 8.8369 - val_masked_accuracy: 0.1023\n",
      "Epoch 113/500\n",
      "187/187 [==============================] - 12s 63ms/step - loss: 0.3193 - masked_accuracy: 0.9185 - val_loss: 8.5706 - val_masked_accuracy: 0.1032\n",
      "Epoch 114/500\n",
      "187/187 [==============================] - 14s 73ms/step - loss: 0.3205 - masked_accuracy: 0.9181 - val_loss: 8.7480 - val_masked_accuracy: 0.1042\n",
      "Epoch 115/500\n",
      "187/187 [==============================] - 10s 55ms/step - loss: 0.3150 - masked_accuracy: 0.9198 - val_loss: 8.5478 - val_masked_accuracy: 0.1050\n",
      "Epoch 116/500\n",
      "187/187 [==============================] - 12s 66ms/step - loss: 0.3195 - masked_accuracy: 0.9191 - val_loss: 8.7398 - val_masked_accuracy: 0.1042\n",
      "Epoch 117/500\n",
      "187/187 [==============================] - 12s 63ms/step - loss: 0.3171 - masked_accuracy: 0.9193 - val_loss: 8.7560 - val_masked_accuracy: 0.0918\n",
      "Epoch 118/500\n",
      "187/187 [==============================] - 12s 64ms/step - loss: 0.3136 - masked_accuracy: 0.9196 - val_loss: 8.9544 - val_masked_accuracy: 0.1019\n",
      "Epoch 119/500\n",
      "187/187 [==============================] - 12s 62ms/step - loss: 0.3154 - masked_accuracy: 0.9196 - val_loss: 9.1168 - val_masked_accuracy: 0.0949\n",
      "Epoch 120/500\n",
      "187/187 [==============================] - 11s 61ms/step - loss: 0.3102 - masked_accuracy: 0.9209 - val_loss: 8.5736 - val_masked_accuracy: 0.1121\n",
      "Epoch 121/500\n",
      "187/187 [==============================] - 12s 62ms/step - loss: 0.3121 - masked_accuracy: 0.9207 - val_loss: 8.7672 - val_masked_accuracy: 0.0991\n",
      "Epoch 122/500\n",
      "187/187 [==============================] - 12s 66ms/step - loss: 0.3074 - masked_accuracy: 0.9212 - val_loss: 8.7237 - val_masked_accuracy: 0.1205\n",
      "Epoch 123/500\n",
      "187/187 [==============================] - 11s 58ms/step - loss: 0.3072 - masked_accuracy: 0.9211 - val_loss: 8.8858 - val_masked_accuracy: 0.0983\n",
      "Epoch 124/500\n",
      "187/187 [==============================] - 14s 72ms/step - loss: 0.3087 - masked_accuracy: 0.9215 - val_loss: 8.8963 - val_masked_accuracy: 0.1125\n",
      "Epoch 125/500\n",
      "187/187 [==============================] - 10s 56ms/step - loss: 0.3026 - masked_accuracy: 0.9221 - val_loss: 8.8273 - val_masked_accuracy: 0.1027\n",
      "Epoch 126/500\n",
      "187/187 [==============================] - 13s 68ms/step - loss: 0.3041 - masked_accuracy: 0.9213 - val_loss: 9.1181 - val_masked_accuracy: 0.1028\n",
      "Epoch 127/500\n",
      "187/187 [==============================] - 12s 64ms/step - loss: 0.3034 - masked_accuracy: 0.9218 - val_loss: 8.9343 - val_masked_accuracy: 0.1010\n",
      "Epoch 128/500\n",
      "187/187 [==============================] - 11s 60ms/step - loss: 0.3011 - masked_accuracy: 0.9231 - val_loss: 9.0780 - val_masked_accuracy: 0.1017\n",
      "Epoch 129/500\n",
      "187/187 [==============================] - 12s 62ms/step - loss: 0.3033 - masked_accuracy: 0.9222 - val_loss: 9.1082 - val_masked_accuracy: 0.0963\n",
      "Epoch 130/500\n",
      "187/187 [==============================] - 11s 60ms/step - loss: 0.2976 - masked_accuracy: 0.9235 - val_loss: 8.9912 - val_masked_accuracy: 0.0922\n",
      "Epoch 131/500\n",
      "187/187 [==============================] - 12s 63ms/step - loss: 0.3011 - masked_accuracy: 0.9231 - val_loss: 8.7531 - val_masked_accuracy: 0.1005\n",
      "Epoch 132/500\n",
      "187/187 [==============================] - 12s 64ms/step - loss: 0.2947 - masked_accuracy: 0.9232 - val_loss: 9.3194 - val_masked_accuracy: 0.0962\n",
      "Epoch 133/500\n",
      "187/187 [==============================] - 12s 62ms/step - loss: 0.2960 - masked_accuracy: 0.9242 - val_loss: 8.9013 - val_masked_accuracy: 0.1000\n",
      "Epoch 134/500\n",
      "187/187 [==============================] - 11s 57ms/step - loss: 0.2974 - masked_accuracy: 0.9235 - val_loss: 9.0657 - val_masked_accuracy: 0.1012\n",
      "Epoch 135/500\n",
      "187/187 [==============================] - 13s 70ms/step - loss: 0.2958 - masked_accuracy: 0.9242 - val_loss: 8.8520 - val_masked_accuracy: 0.0968\n",
      "Epoch 136/500\n",
      "187/187 [==============================] - 11s 60ms/step - loss: 0.2929 - masked_accuracy: 0.9240 - val_loss: 9.1661 - val_masked_accuracy: 0.0940\n",
      "Epoch 137/500\n",
      "187/187 [==============================] - 12s 62ms/step - loss: 0.2926 - masked_accuracy: 0.9247 - val_loss: 8.8562 - val_masked_accuracy: 0.0936\n",
      "Epoch 138/500\n",
      "187/187 [==============================] - 12s 64ms/step - loss: 0.2936 - masked_accuracy: 0.9234 - val_loss: 8.6465 - val_masked_accuracy: 0.1072\n",
      "Epoch 139/500\n",
      "187/187 [==============================] - 12s 63ms/step - loss: 0.2876 - masked_accuracy: 0.9260 - val_loss: 8.6511 - val_masked_accuracy: 0.1085\n",
      "Epoch 140/500\n",
      "187/187 [==============================] - 12s 62ms/step - loss: 0.2901 - masked_accuracy: 0.9253 - val_loss: 8.9279 - val_masked_accuracy: 0.0947\n",
      "Epoch 141/500\n",
      "187/187 [==============================] - 12s 65ms/step - loss: 0.2878 - masked_accuracy: 0.9245 - val_loss: 8.9538 - val_masked_accuracy: 0.0910\n",
      "Epoch 142/500\n",
      "187/187 [==============================] - 11s 60ms/step - loss: 0.2860 - masked_accuracy: 0.9259 - val_loss: 8.9451 - val_masked_accuracy: 0.1025\n",
      "Epoch 143/500\n",
      "187/187 [==============================] - 13s 67ms/step - loss: 0.2913 - masked_accuracy: 0.9246 - val_loss: 9.2086 - val_masked_accuracy: 0.0991\n",
      "Epoch 144/500\n",
      "187/187 [==============================] - 11s 60ms/step - loss: 0.2880 - masked_accuracy: 0.9248 - val_loss: 8.7462 - val_masked_accuracy: 0.0999\n",
      "Epoch 145/500\n",
      "187/187 [==============================] - 12s 66ms/step - loss: 0.2852 - masked_accuracy: 0.9256 - val_loss: 8.9614 - val_masked_accuracy: 0.1017\n",
      "Epoch 146/500\n",
      "187/187 [==============================] - 12s 66ms/step - loss: 0.2885 - masked_accuracy: 0.9249 - val_loss: 8.9596 - val_masked_accuracy: 0.0897\n",
      "Epoch 147/500\n",
      "187/187 [==============================] - 12s 62ms/step - loss: 0.2837 - masked_accuracy: 0.9257 - val_loss: 9.2023 - val_masked_accuracy: 0.0926\n",
      "Epoch 148/500\n",
      "187/187 [==============================] - 12s 64ms/step - loss: 0.2810 - masked_accuracy: 0.9270 - val_loss: 8.9483 - val_masked_accuracy: 0.0919\n",
      "Epoch 149/500\n",
      "187/187 [==============================] - 11s 60ms/step - loss: 0.2855 - masked_accuracy: 0.9256 - val_loss: 8.8061 - val_masked_accuracy: 0.0982\n",
      "Epoch 150/500\n",
      "187/187 [==============================] - 12s 63ms/step - loss: 0.2818 - masked_accuracy: 0.9265 - val_loss: 9.2613 - val_masked_accuracy: 0.0958\n",
      "Epoch 151/500\n",
      "187/187 [==============================] - 13s 69ms/step - loss: 0.2804 - masked_accuracy: 0.9260 - val_loss: 9.0216 - val_masked_accuracy: 0.0928\n",
      "Epoch 152/500\n",
      "187/187 [==============================] - 13s 72ms/step - loss: 0.2809 - masked_accuracy: 0.9258 - val_loss: 9.0560 - val_masked_accuracy: 0.0984\n",
      "Epoch 153/500\n",
      "187/187 [==============================] - 11s 56ms/step - loss: 0.2804 - masked_accuracy: 0.9265 - val_loss: 9.1779 - val_masked_accuracy: 0.0917\n"
     ]
    },
    {
     "name": "stdout",
     "output_type": "stream",
     "text": [
      "Epoch 154/500\n",
      "187/187 [==============================] - 12s 63ms/step - loss: 0.2800 - masked_accuracy: 0.9262 - val_loss: 9.1439 - val_masked_accuracy: 0.0907\n",
      "Epoch 155/500\n",
      "187/187 [==============================] - 12s 66ms/step - loss: 0.2789 - masked_accuracy: 0.9272 - val_loss: 8.9196 - val_masked_accuracy: 0.1019\n",
      "Epoch 156/500\n",
      "187/187 [==============================] - 13s 70ms/step - loss: 0.2763 - masked_accuracy: 0.9270 - val_loss: 9.1506 - val_masked_accuracy: 0.0924\n",
      "Epoch 157/500\n",
      "187/187 [==============================] - 14s 76ms/step - loss: 0.2800 - masked_accuracy: 0.9269 - val_loss: 9.1515 - val_masked_accuracy: 0.0885\n",
      "Epoch 158/500\n",
      "187/187 [==============================] - 14s 72ms/step - loss: 0.2762 - masked_accuracy: 0.9277 - val_loss: 8.9393 - val_masked_accuracy: 0.0972\n",
      "Epoch 159/500\n",
      "187/187 [==============================] - 13s 71ms/step - loss: 0.2719 - masked_accuracy: 0.9280 - val_loss: 9.0247 - val_masked_accuracy: 0.1001\n",
      "Epoch 160/500\n",
      "187/187 [==============================] - 14s 76ms/step - loss: 0.2753 - masked_accuracy: 0.9271 - val_loss: 8.9917 - val_masked_accuracy: 0.1000\n",
      "Epoch 161/500\n",
      "187/187 [==============================] - 16s 86ms/step - loss: 0.2745 - masked_accuracy: 0.9275 - val_loss: 8.9268 - val_masked_accuracy: 0.0991\n",
      "Epoch 162/500\n",
      "187/187 [==============================] - 11s 58ms/step - loss: 0.2744 - masked_accuracy: 0.9281 - val_loss: 8.8915 - val_masked_accuracy: 0.1007\n",
      "Epoch 163/500\n",
      "187/187 [==============================] - 15s 80ms/step - loss: 0.2715 - masked_accuracy: 0.9281 - val_loss: 8.9644 - val_masked_accuracy: 0.0894\n",
      "Epoch 164/500\n",
      "187/187 [==============================] - 15s 78ms/step - loss: 0.2740 - masked_accuracy: 0.9285 - val_loss: 9.0200 - val_masked_accuracy: 0.1081\n",
      "Epoch 165/500\n",
      "187/187 [==============================] - 13s 71ms/step - loss: 0.2719 - masked_accuracy: 0.9276 - val_loss: 9.1055 - val_masked_accuracy: 0.0957\n",
      "Epoch 166/500\n",
      "187/187 [==============================] - 14s 74ms/step - loss: 0.2730 - masked_accuracy: 0.9281 - val_loss: 9.1419 - val_masked_accuracy: 0.0953\n",
      "Epoch 167/500\n",
      "187/187 [==============================] - 14s 74ms/step - loss: 0.2694 - masked_accuracy: 0.9284 - val_loss: 9.1777 - val_masked_accuracy: 0.0987\n",
      "Epoch 168/500\n",
      "187/187 [==============================] - 14s 72ms/step - loss: 0.2715 - masked_accuracy: 0.9294 - val_loss: 9.2175 - val_masked_accuracy: 0.1026\n",
      "Epoch 169/500\n",
      "187/187 [==============================] - 14s 77ms/step - loss: 0.2733 - masked_accuracy: 0.9279 - val_loss: 8.9354 - val_masked_accuracy: 0.0973\n",
      "Epoch 170/500\n",
      "187/187 [==============================] - 13s 70ms/step - loss: 0.2684 - masked_accuracy: 0.9282 - val_loss: 8.9793 - val_masked_accuracy: 0.1020\n",
      "Epoch 171/500\n",
      "187/187 [==============================] - 14s 74ms/step - loss: 0.2680 - masked_accuracy: 0.9296 - val_loss: 9.3491 - val_masked_accuracy: 0.0959\n",
      "Epoch 172/500\n",
      "187/187 [==============================] - 14s 75ms/step - loss: 0.2699 - masked_accuracy: 0.9283 - val_loss: 9.2479 - val_masked_accuracy: 0.0950\n",
      "Epoch 173/500\n",
      "187/187 [==============================] - 14s 77ms/step - loss: 0.2709 - masked_accuracy: 0.9290 - val_loss: 9.0921 - val_masked_accuracy: 0.0985\n",
      "Epoch 174/500\n",
      "187/187 [==============================] - 15s 79ms/step - loss: 0.2657 - masked_accuracy: 0.9296 - val_loss: 9.2993 - val_masked_accuracy: 0.0978\n",
      "Epoch 175/500\n",
      "187/187 [==============================] - 13s 70ms/step - loss: 0.2711 - masked_accuracy: 0.9279 - val_loss: 9.1459 - val_masked_accuracy: 0.0929\n",
      "Epoch 176/500\n",
      "187/187 [==============================] - 16s 88ms/step - loss: 0.2628 - masked_accuracy: 0.9295 - val_loss: 9.3783 - val_masked_accuracy: 0.0905\n",
      "Epoch 177/500\n",
      "187/187 [==============================] - 26s 137ms/step - loss: 0.2636 - masked_accuracy: 0.9302 - val_loss: 9.0013 - val_masked_accuracy: 0.0978\n",
      "Epoch 178/500\n",
      "187/187 [==============================] - 9s 46ms/step - loss: 0.2628 - masked_accuracy: 0.9307 - val_loss: 9.0043 - val_masked_accuracy: 0.1108\n",
      "Epoch 179/500\n",
      "187/187 [==============================] - 9s 47ms/step - loss: 0.2676 - masked_accuracy: 0.9294 - val_loss: 9.2219 - val_masked_accuracy: 0.0918\n",
      "Epoch 180/500\n",
      "187/187 [==============================] - 25s 135ms/step - loss: 0.2623 - masked_accuracy: 0.9304 - val_loss: 9.1087 - val_masked_accuracy: 0.0917\n",
      "Epoch 181/500\n",
      "187/187 [==============================] - 9s 46ms/step - loss: 0.2630 - masked_accuracy: 0.9302 - val_loss: 9.2542 - val_masked_accuracy: 0.0874\n",
      "Epoch 182/500\n",
      "187/187 [==============================] - 9s 46ms/step - loss: 0.2625 - masked_accuracy: 0.9303 - val_loss: 9.3222 - val_masked_accuracy: 0.0852\n",
      "Epoch 183/500\n",
      "187/187 [==============================] - 25s 135ms/step - loss: 0.2608 - masked_accuracy: 0.9313 - val_loss: 9.2115 - val_masked_accuracy: 0.0902\n",
      "Epoch 184/500\n",
      "187/187 [==============================] - 9s 46ms/step - loss: 0.2593 - masked_accuracy: 0.9316 - val_loss: 9.1712 - val_masked_accuracy: 0.0963\n",
      "Epoch 185/500\n",
      "187/187 [==============================] - 15s 78ms/step - loss: 0.2630 - masked_accuracy: 0.9313 - val_loss: 9.0450 - val_masked_accuracy: 0.1008\n",
      "Epoch 186/500\n",
      "187/187 [==============================] - 20s 106ms/step - loss: 0.2618 - masked_accuracy: 0.9310 - val_loss: 8.9670 - val_masked_accuracy: 0.0954\n",
      "Epoch 187/500\n",
      "187/187 [==============================] - 9s 46ms/step - loss: 0.2608 - masked_accuracy: 0.9303 - val_loss: 9.4141 - val_masked_accuracy: 0.0893\n",
      "Epoch 188/500\n",
      "187/187 [==============================] - 26s 137ms/step - loss: 0.2603 - masked_accuracy: 0.9301 - val_loss: 9.2805 - val_masked_accuracy: 0.0866\n",
      "Epoch 189/500\n",
      "187/187 [==============================] - 9s 51ms/step - loss: 0.2612 - masked_accuracy: 0.9308 - val_loss: 9.1464 - val_masked_accuracy: 0.1015\n",
      "Epoch 190/500\n",
      "187/187 [==============================] - 9s 46ms/step - loss: 0.2581 - masked_accuracy: 0.9311 - val_loss: 9.0353 - val_masked_accuracy: 0.0976\n",
      "Epoch 191/500\n",
      "187/187 [==============================] - 24s 131ms/step - loss: 0.2585 - masked_accuracy: 0.9317 - val_loss: 9.0119 - val_masked_accuracy: 0.0998\n",
      "Epoch 192/500\n",
      "187/187 [==============================] - 9s 50ms/step - loss: 0.2601 - masked_accuracy: 0.9297 - val_loss: 8.9396 - val_masked_accuracy: 0.0959\n",
      "Epoch 193/500\n",
      "187/187 [==============================] - 9s 46ms/step - loss: 0.2568 - masked_accuracy: 0.9308 - val_loss: 9.2177 - val_masked_accuracy: 0.0851\n",
      "Epoch 194/500\n",
      "187/187 [==============================] - 25s 134ms/step - loss: 0.2604 - masked_accuracy: 0.9302 - val_loss: 9.2682 - val_masked_accuracy: 0.0891\n",
      "Epoch 195/500\n",
      "187/187 [==============================] - 9s 45ms/step - loss: 0.2602 - masked_accuracy: 0.9306 - val_loss: 8.8266 - val_masked_accuracy: 0.0989\n",
      "Epoch 196/500\n",
      "187/187 [==============================] - 9s 47ms/step - loss: 0.2561 - masked_accuracy: 0.9319 - val_loss: 9.0996 - val_masked_accuracy: 0.0989\n",
      "Epoch 197/500\n",
      "187/187 [==============================] - 27s 142ms/step - loss: 0.2576 - masked_accuracy: 0.9313 - val_loss: 8.9820 - val_masked_accuracy: 0.1011\n",
      "Epoch 198/500\n",
      "187/187 [==============================] - 9s 46ms/step - loss: 0.2548 - masked_accuracy: 0.9302 - val_loss: 9.1501 - val_masked_accuracy: 0.0892\n",
      "Epoch 199/500\n",
      "187/187 [==============================] - 13s 72ms/step - loss: 0.2568 - masked_accuracy: 0.9315 - val_loss: 9.1210 - val_masked_accuracy: 0.0933\n",
      "Epoch 200/500\n",
      "187/187 [==============================] - 20s 109ms/step - loss: 0.2554 - masked_accuracy: 0.9313 - val_loss: 9.0050 - val_masked_accuracy: 0.0966\n",
      "Epoch 201/500\n",
      "187/187 [==============================] - 9s 45ms/step - loss: 0.2511 - masked_accuracy: 0.9322 - val_loss: 8.9363 - val_masked_accuracy: 0.0946\n",
      "Epoch 202/500\n",
      "187/187 [==============================] - 23s 125ms/step - loss: 0.2531 - masked_accuracy: 0.9311 - val_loss: 9.2038 - val_masked_accuracy: 0.0931\n",
      "Epoch 203/500\n",
      "187/187 [==============================] - 9s 49ms/step - loss: 0.2559 - masked_accuracy: 0.9306 - val_loss: 8.9464 - val_masked_accuracy: 0.1018\n",
      "Epoch 204/500\n",
      "187/187 [==============================] - 9s 46ms/step - loss: 0.2510 - masked_accuracy: 0.9327 - val_loss: 9.1729 - val_masked_accuracy: 0.0909\n"
     ]
    },
    {
     "name": "stdout",
     "output_type": "stream",
     "text": [
      "Epoch 205/500\n",
      "187/187 [==============================] - 25s 136ms/step - loss: 0.2534 - masked_accuracy: 0.9309 - val_loss: 9.2763 - val_masked_accuracy: 0.0898\n",
      "Epoch 206/500\n",
      "187/187 [==============================] - 9s 45ms/step - loss: 0.2525 - masked_accuracy: 0.9320 - val_loss: 8.9504 - val_masked_accuracy: 0.1002\n",
      "Epoch 207/500\n",
      "187/187 [==============================] - 9s 46ms/step - loss: 0.2501 - masked_accuracy: 0.9318 - val_loss: 9.0549 - val_masked_accuracy: 0.1098\n",
      "Epoch 208/500\n",
      "187/187 [==============================] - 22s 118ms/step - loss: 0.2535 - masked_accuracy: 0.9320 - val_loss: 8.9705 - val_masked_accuracy: 0.0905\n",
      "Epoch 209/500\n",
      "187/187 [==============================] - 9s 47ms/step - loss: 0.2521 - masked_accuracy: 0.9323 - val_loss: 9.1078 - val_masked_accuracy: 0.0926\n",
      "Epoch 210/500\n",
      "187/187 [==============================] - 25s 133ms/step - loss: 0.2543 - masked_accuracy: 0.9321 - val_loss: 9.1107 - val_masked_accuracy: 0.0924\n",
      "Epoch 211/500\n",
      "187/187 [==============================] - 9s 47ms/step - loss: 0.2492 - masked_accuracy: 0.9322 - val_loss: 9.5426 - val_masked_accuracy: 0.0890\n",
      "Epoch 212/500\n",
      "187/187 [==============================] - 9s 46ms/step - loss: 0.2512 - masked_accuracy: 0.9321 - val_loss: 9.1538 - val_masked_accuracy: 0.0915\n",
      "Epoch 213/500\n",
      "187/187 [==============================] - 14s 73ms/step - loss: 0.2478 - masked_accuracy: 0.9323 - val_loss: 9.2734 - val_masked_accuracy: 0.0902\n",
      "Epoch 214/500\n",
      "187/187 [==============================] - 19s 99ms/step - loss: 0.2526 - masked_accuracy: 0.9320 - val_loss: 9.0775 - val_masked_accuracy: 0.0886\n",
      "Epoch 215/500\n",
      "187/187 [==============================] - 9s 46ms/step - loss: 0.2514 - masked_accuracy: 0.9327 - val_loss: 9.1153 - val_masked_accuracy: 0.0962\n",
      "Epoch 216/500\n",
      "187/187 [==============================] - 24s 128ms/step - loss: 0.2466 - masked_accuracy: 0.9332 - val_loss: 9.2472 - val_masked_accuracy: 0.0907\n",
      "Epoch 217/500\n",
      "187/187 [==============================] - 9s 46ms/step - loss: 0.2476 - masked_accuracy: 0.9331 - val_loss: 8.9383 - val_masked_accuracy: 0.1026\n",
      "Epoch 218/500\n",
      "187/187 [==============================] - 9s 46ms/step - loss: 0.2473 - masked_accuracy: 0.9331 - val_loss: 8.9776 - val_masked_accuracy: 0.1039\n",
      "Epoch 219/500\n",
      "187/187 [==============================] - 24s 130ms/step - loss: 0.2480 - masked_accuracy: 0.9324 - val_loss: 9.0371 - val_masked_accuracy: 0.0921\n",
      "Epoch 220/500\n",
      "187/187 [==============================] - 9s 49ms/step - loss: 0.2431 - masked_accuracy: 0.9330 - val_loss: 9.1766 - val_masked_accuracy: 0.0946\n",
      "Epoch 221/500\n",
      "187/187 [==============================] - 9s 46ms/step - loss: 0.2464 - masked_accuracy: 0.9326 - val_loss: 9.0196 - val_masked_accuracy: 0.0953\n",
      "Epoch 222/500\n",
      "187/187 [==============================] - 25s 133ms/step - loss: 0.2458 - masked_accuracy: 0.9337 - val_loss: 8.8086 - val_masked_accuracy: 0.1099\n",
      "Epoch 223/500\n",
      "187/187 [==============================] - 9s 46ms/step - loss: 0.2475 - masked_accuracy: 0.9330 - val_loss: 8.7429 - val_masked_accuracy: 0.1073\n",
      "Epoch 224/500\n",
      "187/187 [==============================] - 9s 47ms/step - loss: 0.2490 - masked_accuracy: 0.9328 - val_loss: 9.2993 - val_masked_accuracy: 0.1005\n",
      "Epoch 225/500\n",
      "187/187 [==============================] - 26s 137ms/step - loss: 0.2447 - masked_accuracy: 0.9331 - val_loss: 9.1742 - val_masked_accuracy: 0.0966\n",
      "Epoch 226/500\n",
      "187/187 [==============================] - 9s 46ms/step - loss: 0.2457 - masked_accuracy: 0.9328 - val_loss: 9.0929 - val_masked_accuracy: 0.0986\n",
      "Epoch 227/500\n",
      "187/187 [==============================] - 14s 74ms/step - loss: 0.2464 - masked_accuracy: 0.9323 - val_loss: 9.1771 - val_masked_accuracy: 0.0904\n",
      "Epoch 228/500\n",
      "187/187 [==============================] - 19s 102ms/step - loss: 0.2468 - masked_accuracy: 0.9335 - val_loss: 9.1408 - val_masked_accuracy: 0.0949\n",
      "Epoch 229/500\n",
      "187/187 [==============================] - 8s 44ms/step - loss: 0.2436 - masked_accuracy: 0.9336 - val_loss: 9.2159 - val_masked_accuracy: 0.0900\n",
      "Epoch 230/500\n",
      "187/187 [==============================] - 13s 72ms/step - loss: 0.2446 - masked_accuracy: 0.9334 - val_loss: 9.0823 - val_masked_accuracy: 0.0960\n",
      "Epoch 231/500\n",
      "187/187 [==============================] - 20s 108ms/step - loss: 0.2442 - masked_accuracy: 0.9330 - val_loss: 9.0919 - val_masked_accuracy: 0.1005\n",
      "Epoch 232/500\n",
      "187/187 [==============================] - 8s 44ms/step - loss: 0.2437 - masked_accuracy: 0.9330 - val_loss: 9.5090 - val_masked_accuracy: 0.0907\n",
      "Epoch 233/500\n",
      "187/187 [==============================] - 17s 89ms/step - loss: 0.2432 - masked_accuracy: 0.9340 - val_loss: 9.1966 - val_masked_accuracy: 0.0959\n",
      "Epoch 234/500\n",
      "187/187 [==============================] - 13s 68ms/step - loss: 0.2437 - masked_accuracy: 0.9334 - val_loss: 9.4504 - val_masked_accuracy: 0.0857\n",
      "Epoch 235/500\n",
      "187/187 [==============================] - 8s 44ms/step - loss: 0.2424 - masked_accuracy: 0.9338 - val_loss: 9.0232 - val_masked_accuracy: 0.0936\n",
      "Epoch 236/500\n",
      "187/187 [==============================] - 22s 120ms/step - loss: 0.2414 - masked_accuracy: 0.9335 - val_loss: 8.7637 - val_masked_accuracy: 0.0997\n",
      "Epoch 237/500\n",
      "187/187 [==============================] - 9s 49ms/step - loss: 0.2392 - masked_accuracy: 0.9346 - val_loss: 9.4120 - val_masked_accuracy: 0.0909\n",
      "Epoch 238/500\n",
      "187/187 [==============================] - 8s 44ms/step - loss: 0.2427 - masked_accuracy: 0.9343 - val_loss: 9.4146 - val_masked_accuracy: 0.0946\n",
      "Epoch 239/500\n",
      "187/187 [==============================] - 23s 123ms/step - loss: 0.2422 - masked_accuracy: 0.9332 - val_loss: 9.0477 - val_masked_accuracy: 0.1036\n",
      "Epoch 240/500\n",
      "187/187 [==============================] - 8s 44ms/step - loss: 0.2417 - masked_accuracy: 0.9339 - val_loss: 9.3637 - val_masked_accuracy: 0.0922\n",
      "Epoch 241/500\n",
      "187/187 [==============================] - 8s 44ms/step - loss: 0.2430 - masked_accuracy: 0.9329 - val_loss: 9.5908 - val_masked_accuracy: 0.0933\n",
      "Epoch 242/500\n",
      "187/187 [==============================] - 23s 125ms/step - loss: 0.2421 - masked_accuracy: 0.9329 - val_loss: 9.2600 - val_masked_accuracy: 0.0926\n",
      "Epoch 243/500\n",
      "187/187 [==============================] - 8s 44ms/step - loss: 0.2369 - masked_accuracy: 0.9350 - val_loss: 9.4461 - val_masked_accuracy: 0.0976\n",
      "Epoch 244/500\n",
      "187/187 [==============================] - 8s 44ms/step - loss: 0.2374 - masked_accuracy: 0.9348 - val_loss: 9.1779 - val_masked_accuracy: 0.0903\n",
      "Epoch 245/500\n",
      "187/187 [==============================] - 22s 118ms/step - loss: 0.2398 - masked_accuracy: 0.9346 - val_loss: 8.9534 - val_masked_accuracy: 0.1002\n",
      "Epoch 246/500\n",
      "187/187 [==============================] - 8s 44ms/step - loss: 0.2360 - masked_accuracy: 0.9351 - val_loss: 9.3709 - val_masked_accuracy: 0.0935\n",
      "Epoch 247/500\n",
      "187/187 [==============================] - 8s 45ms/step - loss: 0.2386 - masked_accuracy: 0.9343 - val_loss: 9.4459 - val_masked_accuracy: 0.0889\n",
      "Epoch 248/500\n",
      "187/187 [==============================] - 22s 120ms/step - loss: 0.2380 - masked_accuracy: 0.9346 - val_loss: 9.4138 - val_masked_accuracy: 0.0947\n",
      "Epoch 249/500\n",
      "187/187 [==============================] - 8s 44ms/step - loss: 0.2357 - masked_accuracy: 0.9349 - val_loss: 9.0202 - val_masked_accuracy: 0.1005\n",
      "Epoch 250/500\n",
      "187/187 [==============================] - 8s 45ms/step - loss: 0.2397 - masked_accuracy: 0.9343 - val_loss: 9.2736 - val_masked_accuracy: 0.1018\n",
      "Epoch 251/500\n",
      "187/187 [==============================] - 22s 119ms/step - loss: 0.2361 - masked_accuracy: 0.9344 - val_loss: 8.8202 - val_masked_accuracy: 0.0998\n",
      "Epoch 252/500\n",
      "187/187 [==============================] - 8s 44ms/step - loss: 0.2395 - masked_accuracy: 0.9335 - val_loss: 9.3986 - val_masked_accuracy: 0.0964\n",
      "Epoch 253/500\n",
      "187/187 [==============================] - 15s 81ms/step - loss: 0.2379 - masked_accuracy: 0.9343 - val_loss: 9.2880 - val_masked_accuracy: 0.0953\n",
      "Epoch 254/500\n",
      "187/187 [==============================] - 15s 76ms/step - loss: 0.2363 - masked_accuracy: 0.9352 - val_loss: 9.1852 - val_masked_accuracy: 0.0960\n",
      "Epoch 255/500\n",
      "187/187 [==============================] - 8s 44ms/step - loss: 0.2387 - masked_accuracy: 0.9342 - val_loss: 9.1933 - val_masked_accuracy: 0.0937\n"
     ]
    },
    {
     "name": "stdout",
     "output_type": "stream",
     "text": [
      "Epoch 256/500\n",
      "187/187 [==============================] - 16s 86ms/step - loss: 0.2360 - masked_accuracy: 0.9340 - val_loss: 9.0420 - val_masked_accuracy: 0.1026\n",
      "Epoch 257/500\n",
      "187/187 [==============================] - 13s 65ms/step - loss: 0.2361 - masked_accuracy: 0.9345 - val_loss: 9.4667 - val_masked_accuracy: 0.0863\n",
      "Epoch 258/500\n",
      "187/187 [==============================] - 8s 44ms/step - loss: 0.2365 - masked_accuracy: 0.9348 - val_loss: 9.1516 - val_masked_accuracy: 0.0883\n",
      "Epoch 259/500\n",
      "187/187 [==============================] - 22s 118ms/step - loss: 0.2384 - masked_accuracy: 0.9350 - val_loss: 9.3697 - val_masked_accuracy: 0.0916\n",
      "Epoch 260/500\n",
      "187/187 [==============================] - 8s 44ms/step - loss: 0.2361 - masked_accuracy: 0.9347 - val_loss: 9.0809 - val_masked_accuracy: 0.0893\n",
      "Epoch 261/500\n",
      "187/187 [==============================] - 8s 44ms/step - loss: 0.2356 - masked_accuracy: 0.9351 - val_loss: 9.1484 - val_masked_accuracy: 0.0870\n",
      "Epoch 262/500\n",
      "187/187 [==============================] - 22s 119ms/step - loss: 0.2354 - masked_accuracy: 0.9352 - val_loss: 9.4480 - val_masked_accuracy: 0.0849\n",
      "Epoch 263/500\n",
      "187/187 [==============================] - 8s 44ms/step - loss: 0.2333 - masked_accuracy: 0.9354 - val_loss: 9.1878 - val_masked_accuracy: 0.0884\n",
      "Epoch 264/500\n",
      "187/187 [==============================] - 8s 44ms/step - loss: 0.2333 - masked_accuracy: 0.9351 - val_loss: 9.6201 - val_masked_accuracy: 0.0820\n",
      "Epoch 265/500\n",
      "187/187 [==============================] - 22s 121ms/step - loss: 0.2344 - masked_accuracy: 0.9352 - val_loss: 9.1994 - val_masked_accuracy: 0.0971\n",
      "Epoch 266/500\n",
      "187/187 [==============================] - 8s 44ms/step - loss: 0.2332 - masked_accuracy: 0.9354 - val_loss: 9.3096 - val_masked_accuracy: 0.0910\n",
      "Epoch 267/500\n",
      "187/187 [==============================] - 8s 44ms/step - loss: 0.2318 - masked_accuracy: 0.9355 - val_loss: 9.1281 - val_masked_accuracy: 0.0943\n",
      "Epoch 268/500\n",
      "187/187 [==============================] - 21s 115ms/step - loss: 0.2345 - masked_accuracy: 0.9340 - val_loss: 9.3070 - val_masked_accuracy: 0.0946\n",
      "Epoch 269/500\n",
      "187/187 [==============================] - 8s 44ms/step - loss: 0.2399 - masked_accuracy: 0.9343 - val_loss: 9.1787 - val_masked_accuracy: 0.0916\n",
      "Epoch 270/500\n",
      "187/187 [==============================] - 16s 85ms/step - loss: 0.2326 - masked_accuracy: 0.9361 - val_loss: 9.3945 - val_masked_accuracy: 0.0928\n",
      "Epoch 271/500\n",
      "187/187 [==============================] - 13s 67ms/step - loss: 0.2343 - masked_accuracy: 0.9350 - val_loss: 9.3417 - val_masked_accuracy: 0.0901\n",
      "Epoch 272/500\n",
      "187/187 [==============================] - 8s 44ms/step - loss: 0.2317 - masked_accuracy: 0.9358 - val_loss: 9.1547 - val_masked_accuracy: 0.0964\n",
      "Epoch 273/500\n",
      "187/187 [==============================] - 21s 112ms/step - loss: 0.2312 - masked_accuracy: 0.9362 - val_loss: 9.1680 - val_masked_accuracy: 0.0933\n",
      "Epoch 274/500\n",
      "187/187 [==============================] - 8s 44ms/step - loss: 0.2343 - masked_accuracy: 0.9353 - val_loss: 9.3357 - val_masked_accuracy: 0.0870\n",
      "Epoch 275/500\n",
      "187/187 [==============================] - 11s 57ms/step - loss: 0.2336 - masked_accuracy: 0.9354 - val_loss: 9.2016 - val_masked_accuracy: 0.0992\n",
      "Epoch 276/500\n",
      "187/187 [==============================] - 20s 103ms/step - loss: 0.2323 - masked_accuracy: 0.9356 - val_loss: 9.1923 - val_masked_accuracy: 0.0949\n",
      "Epoch 277/500\n",
      "187/187 [==============================] - 8s 44ms/step - loss: 0.2310 - masked_accuracy: 0.9356 - val_loss: 9.2733 - val_masked_accuracy: 0.0928\n",
      "Epoch 278/500\n",
      "187/187 [==============================] - 8s 44ms/step - loss: 0.2347 - masked_accuracy: 0.9353 - val_loss: 9.1263 - val_masked_accuracy: 0.1014\n",
      "Epoch 279/500\n",
      "187/187 [==============================] - 21s 110ms/step - loss: 0.2304 - masked_accuracy: 0.9349 - val_loss: 8.9047 - val_masked_accuracy: 0.1047\n",
      "Epoch 280/500\n",
      "187/187 [==============================] - 8s 44ms/step - loss: 0.2300 - masked_accuracy: 0.9359 - val_loss: 9.0450 - val_masked_accuracy: 0.1004\n",
      "Epoch 281/500\n",
      "187/187 [==============================] - 13s 72ms/step - loss: 0.2332 - masked_accuracy: 0.9355 - val_loss: 9.0373 - val_masked_accuracy: 0.1019\n",
      "Epoch 282/500\n",
      "187/187 [==============================] - 15s 83ms/step - loss: 0.2317 - masked_accuracy: 0.9360 - val_loss: 9.2148 - val_masked_accuracy: 0.0906\n",
      "Epoch 283/500\n",
      "187/187 [==============================] - 8s 44ms/step - loss: 0.2316 - masked_accuracy: 0.9363 - val_loss: 9.1126 - val_masked_accuracy: 0.0906\n",
      "Epoch 284/500\n",
      "187/187 [==============================] - 22s 119ms/step - loss: 0.2313 - masked_accuracy: 0.9353 - val_loss: 9.2906 - val_masked_accuracy: 0.0898\n",
      "Epoch 285/500\n",
      "187/187 [==============================] - 8s 44ms/step - loss: 0.2335 - masked_accuracy: 0.9348 - val_loss: 8.9785 - val_masked_accuracy: 0.1047\n",
      "Epoch 286/500\n",
      "187/187 [==============================] - 8s 44ms/step - loss: 0.2271 - masked_accuracy: 0.9364 - val_loss: 9.3301 - val_masked_accuracy: 0.0886\n",
      "Epoch 287/500\n",
      "187/187 [==============================] - 22s 118ms/step - loss: 0.2286 - masked_accuracy: 0.9375 - val_loss: 9.2349 - val_masked_accuracy: 0.0910\n",
      "Epoch 288/500\n",
      "187/187 [==============================] - 8s 44ms/step - loss: 0.2307 - masked_accuracy: 0.9360 - val_loss: 9.2306 - val_masked_accuracy: 0.0927\n",
      "Epoch 289/500\n",
      "187/187 [==============================] - 8s 44ms/step - loss: 0.2305 - masked_accuracy: 0.9360 - val_loss: 9.5857 - val_masked_accuracy: 0.0844\n",
      "Epoch 290/500\n",
      "187/187 [==============================] - 22s 119ms/step - loss: 0.2252 - masked_accuracy: 0.9378 - val_loss: 8.9626 - val_masked_accuracy: 0.0970\n",
      "Epoch 291/500\n",
      "187/187 [==============================] - 8s 44ms/step - loss: 0.2287 - masked_accuracy: 0.9372 - val_loss: 9.0310 - val_masked_accuracy: 0.0992\n",
      "Epoch 292/500\n",
      "187/187 [==============================] - 8s 45ms/step - loss: 0.2302 - masked_accuracy: 0.9359 - val_loss: 9.1042 - val_masked_accuracy: 0.0970\n",
      "Epoch 293/500\n",
      "187/187 [==============================] - 21s 112ms/step - loss: 0.2318 - masked_accuracy: 0.9359 - val_loss: 9.3379 - val_masked_accuracy: 0.0928\n",
      "Epoch 294/500\n",
      "187/187 [==============================] - 8s 44ms/step - loss: 0.2307 - masked_accuracy: 0.9367 - val_loss: 9.1054 - val_masked_accuracy: 0.0938\n",
      "Epoch 295/500\n",
      "187/187 [==============================] - 11s 57ms/step - loss: 0.2302 - masked_accuracy: 0.9359 - val_loss: 9.3424 - val_masked_accuracy: 0.0821\n",
      "Epoch 296/500\n",
      "187/187 [==============================] - 18s 95ms/step - loss: 0.2284 - masked_accuracy: 0.9365 - val_loss: 9.2691 - val_masked_accuracy: 0.0881\n",
      "Epoch 297/500\n",
      "187/187 [==============================] - 8s 44ms/step - loss: 0.2265 - masked_accuracy: 0.9376 - val_loss: 9.0485 - val_masked_accuracy: 0.1009\n",
      "Epoch 298/500\n",
      "187/187 [==============================] - 20s 108ms/step - loss: 0.2295 - masked_accuracy: 0.9358 - val_loss: 9.3035 - val_masked_accuracy: 0.0919\n",
      "Epoch 299/500\n",
      "187/187 [==============================] - 9s 49ms/step - loss: 0.2305 - masked_accuracy: 0.9359 - val_loss: 9.1773 - val_masked_accuracy: 0.0947\n",
      "Epoch 300/500\n",
      "187/187 [==============================] - 8s 44ms/step - loss: 0.2278 - masked_accuracy: 0.9369 - val_loss: 9.4743 - val_masked_accuracy: 0.0956\n",
      "Epoch 301/500\n",
      "187/187 [==============================] - 20s 106ms/step - loss: 0.2303 - masked_accuracy: 0.9350 - val_loss: 9.5783 - val_masked_accuracy: 0.0928\n",
      "Epoch 302/500\n",
      "187/187 [==============================] - 8s 45ms/step - loss: 0.2307 - masked_accuracy: 0.9357 - val_loss: 9.4330 - val_masked_accuracy: 0.0996\n",
      "Epoch 303/500\n",
      "187/187 [==============================] - 21s 114ms/step - loss: 0.2293 - masked_accuracy: 0.9361 - val_loss: 9.2359 - val_masked_accuracy: 0.0980\n",
      "Epoch 304/500\n",
      "187/187 [==============================] - 8s 44ms/step - loss: 0.2283 - masked_accuracy: 0.9365 - val_loss: 9.5436 - val_masked_accuracy: 0.0921\n",
      "Epoch 305/500\n",
      "187/187 [==============================] - 8s 44ms/step - loss: 0.2317 - masked_accuracy: 0.9356 - val_loss: 9.3272 - val_masked_accuracy: 0.0982\n",
      "Epoch 306/500\n",
      "187/187 [==============================] - 20s 108ms/step - loss: 0.2304 - masked_accuracy: 0.9359 - val_loss: 9.4111 - val_masked_accuracy: 0.0996\n"
     ]
    },
    {
     "name": "stdout",
     "output_type": "stream",
     "text": [
      "Epoch 307/500\n",
      "187/187 [==============================] - 8s 43ms/step - loss: 0.2267 - masked_accuracy: 0.9368 - val_loss: 9.4762 - val_masked_accuracy: 0.0941\n",
      "Epoch 308/500\n",
      "187/187 [==============================] - 8s 44ms/step - loss: 0.2271 - masked_accuracy: 0.9371 - val_loss: 9.1953 - val_masked_accuracy: 0.0984\n",
      "Epoch 309/500\n",
      "187/187 [==============================] - 21s 112ms/step - loss: 0.2299 - masked_accuracy: 0.9353 - val_loss: 9.2250 - val_masked_accuracy: 0.0933\n",
      "Epoch 310/500\n",
      "187/187 [==============================] - 8s 43ms/step - loss: 0.2276 - masked_accuracy: 0.9363 - val_loss: 9.4816 - val_masked_accuracy: 0.0944\n",
      "Epoch 311/500\n",
      "187/187 [==============================] - 8s 44ms/step - loss: 0.2309 - masked_accuracy: 0.9357 - val_loss: 9.6436 - val_masked_accuracy: 0.0933\n",
      "Epoch 312/500\n",
      "187/187 [==============================] - 21s 115ms/step - loss: 0.2307 - masked_accuracy: 0.9345 - val_loss: 9.1065 - val_masked_accuracy: 0.1052\n",
      "Epoch 313/500\n",
      "187/187 [==============================] - 8s 44ms/step - loss: 0.2258 - masked_accuracy: 0.9363 - val_loss: 9.2735 - val_masked_accuracy: 0.0878\n",
      "Epoch 314/500\n",
      "187/187 [==============================] - 8s 44ms/step - loss: 0.2272 - masked_accuracy: 0.9367 - val_loss: 9.2475 - val_masked_accuracy: 0.0963\n",
      "Epoch 315/500\n",
      "187/187 [==============================] - 22s 116ms/step - loss: 0.2273 - masked_accuracy: 0.9374 - val_loss: 9.3439 - val_masked_accuracy: 0.0862\n",
      "Epoch 316/500\n",
      "187/187 [==============================] - 8s 44ms/step - loss: 0.2242 - masked_accuracy: 0.9373 - val_loss: 9.2864 - val_masked_accuracy: 0.0892\n",
      "Epoch 317/500\n",
      "187/187 [==============================] - 8s 44ms/step - loss: 0.2272 - masked_accuracy: 0.9358 - val_loss: 9.7045 - val_masked_accuracy: 0.0849\n",
      "Epoch 318/500\n",
      "187/187 [==============================] - 20s 108ms/step - loss: 0.2261 - masked_accuracy: 0.9368 - val_loss: 9.2906 - val_masked_accuracy: 0.0946\n",
      "Epoch 319/500\n",
      "187/187 [==============================] - 8s 44ms/step - loss: 0.2277 - masked_accuracy: 0.9357 - val_loss: 9.1534 - val_masked_accuracy: 0.0922\n",
      "Epoch 320/500\n",
      "187/187 [==============================] - 8s 44ms/step - loss: 0.2278 - masked_accuracy: 0.9366 - val_loss: 9.0790 - val_masked_accuracy: 0.1076\n",
      "Epoch 321/500\n",
      "187/187 [==============================] - 22s 116ms/step - loss: 0.2254 - masked_accuracy: 0.9366 - val_loss: 9.4022 - val_masked_accuracy: 0.0896\n",
      "Epoch 322/500\n",
      "187/187 [==============================] - 8s 44ms/step - loss: 0.2276 - masked_accuracy: 0.9357 - val_loss: 9.4324 - val_masked_accuracy: 0.0826\n",
      "Epoch 323/500\n",
      "187/187 [==============================] - 8s 44ms/step - loss: 0.2259 - masked_accuracy: 0.9368 - val_loss: 9.3921 - val_masked_accuracy: 0.0936\n",
      "Epoch 324/500\n",
      "187/187 [==============================] - 22s 120ms/step - loss: 0.2268 - masked_accuracy: 0.9360 - val_loss: 9.2557 - val_masked_accuracy: 0.1037\n",
      "Epoch 325/500\n",
      "187/187 [==============================] - 9s 50ms/step - loss: 0.2250 - masked_accuracy: 0.9375 - val_loss: 9.1765 - val_masked_accuracy: 0.0953\n",
      "Epoch 326/500\n",
      "187/187 [==============================] - 8s 45ms/step - loss: 0.2215 - masked_accuracy: 0.9377 - val_loss: 9.5954 - val_masked_accuracy: 0.0853\n",
      "Epoch 327/500\n",
      "187/187 [==============================] - 22s 116ms/step - loss: 0.2264 - masked_accuracy: 0.9366 - val_loss: 9.5483 - val_masked_accuracy: 0.1065\n",
      "Epoch 328/500\n",
      "187/187 [==============================] - 8s 45ms/step - loss: 0.2218 - masked_accuracy: 0.9370 - val_loss: 9.1500 - val_masked_accuracy: 0.1021\n",
      "Epoch 329/500\n",
      "187/187 [==============================] - 8s 44ms/step - loss: 0.2251 - masked_accuracy: 0.9369 - val_loss: 9.0249 - val_masked_accuracy: 0.0992\n",
      "Epoch 330/500\n",
      "187/187 [==============================] - 25s 136ms/step - loss: 0.2243 - masked_accuracy: 0.9375 - val_loss: 9.5514 - val_masked_accuracy: 0.0859\n",
      "Epoch 331/500\n",
      "187/187 [==============================] - 8s 44ms/step - loss: 0.2230 - masked_accuracy: 0.9361 - val_loss: 9.5570 - val_masked_accuracy: 0.0932\n",
      "Epoch 332/500\n",
      "187/187 [==============================] - 8s 45ms/step - loss: 0.2276 - masked_accuracy: 0.9361 - val_loss: 9.1558 - val_masked_accuracy: 0.0902\n",
      "Epoch 333/500\n",
      "187/187 [==============================] - 24s 128ms/step - loss: 0.2267 - masked_accuracy: 0.9366 - val_loss: 9.4042 - val_masked_accuracy: 0.0940\n",
      "Epoch 334/500\n",
      "187/187 [==============================] - 8s 45ms/step - loss: 0.2221 - masked_accuracy: 0.9369 - val_loss: 9.3034 - val_masked_accuracy: 0.0902\n",
      "Epoch 335/500\n",
      "187/187 [==============================] - 8s 45ms/step - loss: 0.2231 - masked_accuracy: 0.9371 - val_loss: 9.3166 - val_masked_accuracy: 0.0931\n",
      "Epoch 336/500\n",
      "187/187 [==============================] - 20s 107ms/step - loss: 0.2251 - masked_accuracy: 0.9368 - val_loss: 9.3143 - val_masked_accuracy: 0.1026\n",
      "Epoch 337/500\n",
      "187/187 [==============================] - 11s 55ms/step - loss: 0.2254 - masked_accuracy: 0.9368 - val_loss: 9.5013 - val_masked_accuracy: 0.0890\n",
      "Epoch 338/500\n",
      "187/187 [==============================] - 8s 45ms/step - loss: 0.2231 - masked_accuracy: 0.9369 - val_loss: 9.5711 - val_masked_accuracy: 0.0917\n",
      "Epoch 339/500\n",
      "187/187 [==============================] - 17s 92ms/step - loss: 0.2226 - masked_accuracy: 0.9376 - val_loss: 9.5221 - val_masked_accuracy: 0.0836\n",
      "Epoch 340/500\n",
      "187/187 [==============================] - 16s 81ms/step - loss: 0.2252 - masked_accuracy: 0.9361 - val_loss: 9.3642 - val_masked_accuracy: 0.0903\n",
      "Epoch 341/500\n",
      "187/187 [==============================] - 8s 45ms/step - loss: 0.2222 - masked_accuracy: 0.9373 - val_loss: 9.3489 - val_masked_accuracy: 0.0940\n",
      "Epoch 342/500\n",
      "187/187 [==============================] - 9s 47ms/step - loss: 0.2270 - masked_accuracy: 0.9366 - val_loss: 9.4588 - val_masked_accuracy: 0.0962\n",
      "Epoch 343/500\n",
      "187/187 [==============================] - 23s 119ms/step - loss: 0.2247 - masked_accuracy: 0.9366 - val_loss: 9.4172 - val_masked_accuracy: 0.0930\n",
      "Epoch 344/500\n",
      "187/187 [==============================] - 8s 45ms/step - loss: 0.2219 - masked_accuracy: 0.9372 - val_loss: 9.4986 - val_masked_accuracy: 0.0915\n",
      "Epoch 345/500\n",
      "187/187 [==============================] - 8s 45ms/step - loss: 0.2197 - masked_accuracy: 0.9383 - val_loss: 9.5118 - val_masked_accuracy: 0.0930\n",
      "Epoch 346/500\n",
      "187/187 [==============================] - 26s 139ms/step - loss: 0.2222 - masked_accuracy: 0.9371 - val_loss: 9.2756 - val_masked_accuracy: 0.0951\n",
      "Epoch 347/500\n",
      "187/187 [==============================] - 8s 44ms/step - loss: 0.2255 - masked_accuracy: 0.9366 - val_loss: 9.7261 - val_masked_accuracy: 0.0900\n",
      "Epoch 348/500\n",
      "187/187 [==============================] - 8s 45ms/step - loss: 0.2229 - masked_accuracy: 0.9362 - val_loss: 9.4981 - val_masked_accuracy: 0.0844\n",
      "Epoch 349/500\n",
      "187/187 [==============================] - 25s 134ms/step - loss: 0.2242 - masked_accuracy: 0.9367 - val_loss: 9.3454 - val_masked_accuracy: 0.0984\n",
      "Epoch 350/500\n",
      "187/187 [==============================] - 8s 44ms/step - loss: 0.2257 - masked_accuracy: 0.9359 - val_loss: 9.3519 - val_masked_accuracy: 0.0940\n",
      "Epoch 351/500\n",
      "187/187 [==============================] - 8s 45ms/step - loss: 0.2259 - masked_accuracy: 0.9371 - val_loss: 9.5440 - val_masked_accuracy: 0.0919\n",
      "Epoch 352/500\n",
      "187/187 [==============================] - 20s 108ms/step - loss: 0.2228 - masked_accuracy: 0.9362 - val_loss: 9.3894 - val_masked_accuracy: 0.0955\n",
      "Epoch 353/500\n",
      "187/187 [==============================] - 11s 54ms/step - loss: 0.2237 - masked_accuracy: 0.9369 - val_loss: 9.3970 - val_masked_accuracy: 0.0945\n",
      "Epoch 354/500\n",
      "187/187 [==============================] - 8s 44ms/step - loss: 0.2210 - masked_accuracy: 0.9380 - val_loss: 9.0678 - val_masked_accuracy: 0.1108\n",
      "Epoch 355/500\n",
      "187/187 [==============================] - 24s 131ms/step - loss: 0.2199 - masked_accuracy: 0.9375 - val_loss: 9.3671 - val_masked_accuracy: 0.1032\n",
      "Epoch 356/500\n",
      "187/187 [==============================] - 8s 44ms/step - loss: 0.2219 - masked_accuracy: 0.9372 - val_loss: 9.2044 - val_masked_accuracy: 0.1176\n",
      "Epoch 357/500\n",
      "187/187 [==============================] - 8s 45ms/step - loss: 0.2236 - masked_accuracy: 0.9366 - val_loss: 9.3587 - val_masked_accuracy: 0.0914\n"
     ]
    },
    {
     "name": "stdout",
     "output_type": "stream",
     "text": [
      "Epoch 358/500\n",
      "187/187 [==============================] - 18s 96ms/step - loss: 0.2207 - masked_accuracy: 0.9376 - val_loss: 9.3615 - val_masked_accuracy: 0.0978\n",
      "Epoch 359/500\n",
      "187/187 [==============================] - 13s 68ms/step - loss: 0.2224 - masked_accuracy: 0.9366 - val_loss: 9.2531 - val_masked_accuracy: 0.1043\n",
      "Epoch 360/500\n",
      "187/187 [==============================] - 8s 44ms/step - loss: 0.2205 - masked_accuracy: 0.9380 - val_loss: 9.4326 - val_masked_accuracy: 0.0939\n",
      "Epoch 361/500\n",
      "187/187 [==============================] - 24s 128ms/step - loss: 0.2227 - masked_accuracy: 0.9369 - val_loss: 9.4628 - val_masked_accuracy: 0.1019\n",
      "Epoch 362/500\n",
      "187/187 [==============================] - 8s 43ms/step - loss: 0.2215 - masked_accuracy: 0.9377 - val_loss: 9.2551 - val_masked_accuracy: 0.0941\n",
      "Epoch 363/500\n",
      "187/187 [==============================] - 8s 44ms/step - loss: 0.2229 - masked_accuracy: 0.9368 - val_loss: 9.2865 - val_masked_accuracy: 0.0955\n",
      "Epoch 364/500\n",
      "187/187 [==============================] - 22s 116ms/step - loss: 0.2209 - masked_accuracy: 0.9378 - val_loss: 9.3091 - val_masked_accuracy: 0.0968\n",
      "Epoch 365/500\n",
      "187/187 [==============================] - 8s 43ms/step - loss: 0.2192 - masked_accuracy: 0.9376 - val_loss: 9.5356 - val_masked_accuracy: 0.0965\n",
      "Epoch 366/500\n",
      "187/187 [==============================] - 8s 44ms/step - loss: 0.2237 - masked_accuracy: 0.9367 - val_loss: 9.3013 - val_masked_accuracy: 0.0981\n",
      "Epoch 367/500\n",
      "187/187 [==============================] - 23s 121ms/step - loss: 0.2191 - masked_accuracy: 0.9377 - val_loss: 9.0999 - val_masked_accuracy: 0.0970\n",
      "Epoch 368/500\n",
      "187/187 [==============================] - 8s 43ms/step - loss: 0.2220 - masked_accuracy: 0.9376 - val_loss: 9.2083 - val_masked_accuracy: 0.0953\n",
      "Epoch 369/500\n",
      "187/187 [==============================] - 8s 44ms/step - loss: 0.2239 - masked_accuracy: 0.9362 - val_loss: 9.3364 - val_masked_accuracy: 0.0919\n",
      "Epoch 370/500\n",
      "187/187 [==============================] - 25s 132ms/step - loss: 0.2221 - masked_accuracy: 0.9362 - val_loss: 9.1831 - val_masked_accuracy: 0.0944\n",
      "Epoch 371/500\n",
      "187/187 [==============================] - 8s 44ms/step - loss: 0.2194 - masked_accuracy: 0.9378 - val_loss: 9.4887 - val_masked_accuracy: 0.1022\n",
      "Epoch 372/500\n",
      "187/187 [==============================] - 8s 44ms/step - loss: 0.2185 - masked_accuracy: 0.9378 - val_loss: 9.2214 - val_masked_accuracy: 0.0951\n",
      "Epoch 373/500\n",
      "187/187 [==============================] - 22s 120ms/step - loss: 0.2207 - masked_accuracy: 0.9376 - val_loss: 9.2642 - val_masked_accuracy: 0.1005\n",
      "Epoch 374/500\n",
      "187/187 [==============================] - 8s 44ms/step - loss: 0.2222 - masked_accuracy: 0.9372 - val_loss: 9.3329 - val_masked_accuracy: 0.0903\n",
      "Epoch 375/500\n",
      "187/187 [==============================] - 8s 44ms/step - loss: 0.2199 - masked_accuracy: 0.9376 - val_loss: 9.2953 - val_masked_accuracy: 0.1087\n",
      "Epoch 376/500\n",
      "187/187 [==============================] - 23s 123ms/step - loss: 0.2205 - masked_accuracy: 0.9372 - val_loss: 9.3323 - val_masked_accuracy: 0.0939\n",
      "Epoch 377/500\n",
      "187/187 [==============================] - 8s 44ms/step - loss: 0.2217 - masked_accuracy: 0.9371 - val_loss: 9.2881 - val_masked_accuracy: 0.0954\n",
      "Epoch 378/500\n",
      "187/187 [==============================] - 8s 44ms/step - loss: 0.2195 - masked_accuracy: 0.9379 - val_loss: 8.9912 - val_masked_accuracy: 0.1025\n",
      "Epoch 379/500\n",
      "187/187 [==============================] - 22s 120ms/step - loss: 0.2187 - masked_accuracy: 0.9379 - val_loss: 9.3024 - val_masked_accuracy: 0.1000\n",
      "Epoch 380/500\n",
      "187/187 [==============================] - 8s 44ms/step - loss: 0.2193 - masked_accuracy: 0.9375 - val_loss: 9.2929 - val_masked_accuracy: 0.0999\n",
      "Epoch 381/500\n",
      "187/187 [==============================] - 8s 44ms/step - loss: 0.2221 - masked_accuracy: 0.9380 - val_loss: 9.2668 - val_masked_accuracy: 0.0945\n",
      "Epoch 382/500\n",
      "187/187 [==============================] - 23s 122ms/step - loss: 0.2208 - masked_accuracy: 0.9364 - val_loss: 9.3478 - val_masked_accuracy: 0.1019\n",
      "Epoch 383/500\n",
      "187/187 [==============================] - 8s 44ms/step - loss: 0.2219 - masked_accuracy: 0.9368 - val_loss: 9.3406 - val_masked_accuracy: 0.0970\n",
      "Epoch 384/500\n",
      "187/187 [==============================] - 15s 83ms/step - loss: 0.2208 - masked_accuracy: 0.9377 - val_loss: 9.3194 - val_masked_accuracy: 0.0891\n",
      "Epoch 385/500\n",
      "187/187 [==============================] - 15s 77ms/step - loss: 0.2202 - masked_accuracy: 0.9379 - val_loss: 9.3943 - val_masked_accuracy: 0.0895\n",
      "Epoch 386/500\n",
      "187/187 [==============================] - 8s 44ms/step - loss: 0.2206 - masked_accuracy: 0.9372 - val_loss: 9.4208 - val_masked_accuracy: 0.0908\n",
      "Epoch 387/500\n",
      "187/187 [==============================] - 24s 130ms/step - loss: 0.2185 - masked_accuracy: 0.9373 - val_loss: 9.3849 - val_masked_accuracy: 0.0898\n",
      "Epoch 388/500\n",
      "187/187 [==============================] - 8s 44ms/step - loss: 0.2191 - masked_accuracy: 0.9373 - val_loss: 9.5331 - val_masked_accuracy: 0.0945\n",
      "Epoch 389/500\n",
      "187/187 [==============================] - 8s 44ms/step - loss: 0.2202 - masked_accuracy: 0.9374 - val_loss: 9.4937 - val_masked_accuracy: 0.0836\n",
      "Epoch 390/500\n",
      "187/187 [==============================] - 24s 127ms/step - loss: 0.2206 - masked_accuracy: 0.9387 - val_loss: 9.1013 - val_masked_accuracy: 0.0980\n",
      "Epoch 391/500\n",
      "187/187 [==============================] - 8s 43ms/step - loss: 0.2213 - masked_accuracy: 0.9365 - val_loss: 9.2173 - val_masked_accuracy: 0.0982\n",
      "Epoch 392/500\n",
      "187/187 [==============================] - 8s 44ms/step - loss: 0.2183 - masked_accuracy: 0.9376 - val_loss: 9.3211 - val_masked_accuracy: 0.0990\n",
      "Epoch 393/500\n",
      "187/187 [==============================] - 21s 113ms/step - loss: 0.2225 - masked_accuracy: 0.9365 - val_loss: 9.2337 - val_masked_accuracy: 0.1002\n",
      "Epoch 394/500\n",
      "187/187 [==============================] - 8s 43ms/step - loss: 0.2191 - masked_accuracy: 0.9378 - val_loss: 9.2774 - val_masked_accuracy: 0.0975\n",
      "Epoch 395/500\n",
      "187/187 [==============================] - 8s 44ms/step - loss: 0.2219 - masked_accuracy: 0.9373 - val_loss: 9.4306 - val_masked_accuracy: 0.0927\n",
      "Epoch 396/500\n",
      "187/187 [==============================] - 24s 129ms/step - loss: 0.2196 - masked_accuracy: 0.9381 - val_loss: 9.4738 - val_masked_accuracy: 0.0898\n",
      "Epoch 397/500\n",
      "187/187 [==============================] - 8s 43ms/step - loss: 0.2226 - masked_accuracy: 0.9373 - val_loss: 9.4495 - val_masked_accuracy: 0.0880\n",
      "Epoch 398/500\n",
      "187/187 [==============================] - 8s 44ms/step - loss: 0.2227 - masked_accuracy: 0.9373 - val_loss: 9.6240 - val_masked_accuracy: 0.0932\n",
      "Epoch 399/500\n",
      "187/187 [==============================] - 22s 116ms/step - loss: 0.2228 - masked_accuracy: 0.9368 - val_loss: 9.3287 - val_masked_accuracy: 0.0938\n",
      "Epoch 400/500\n",
      "187/187 [==============================] - 8s 44ms/step - loss: 0.2214 - masked_accuracy: 0.9376 - val_loss: 9.2396 - val_masked_accuracy: 0.0992\n",
      "Epoch 401/500\n",
      "187/187 [==============================] - 8s 44ms/step - loss: 0.2215 - masked_accuracy: 0.9371 - val_loss: 9.3323 - val_masked_accuracy: 0.1022\n",
      "Epoch 402/500\n",
      "187/187 [==============================] - 23s 123ms/step - loss: 0.2232 - masked_accuracy: 0.9365 - val_loss: 9.3424 - val_masked_accuracy: 0.1022\n",
      "Epoch 403/500\n",
      "187/187 [==============================] - 8s 44ms/step - loss: 0.2220 - masked_accuracy: 0.9369 - val_loss: 9.1194 - val_masked_accuracy: 0.1028\n",
      "Epoch 404/500\n",
      "187/187 [==============================] - 8s 44ms/step - loss: 0.2233 - masked_accuracy: 0.9373 - val_loss: 9.5050 - val_masked_accuracy: 0.0916\n",
      "Epoch 405/500\n",
      "187/187 [==============================] - 23s 123ms/step - loss: 0.2232 - masked_accuracy: 0.9372 - val_loss: 9.3749 - val_masked_accuracy: 0.1176\n",
      "Epoch 406/500\n",
      "187/187 [==============================] - 8s 44ms/step - loss: 0.2201 - masked_accuracy: 0.9382 - val_loss: 9.4427 - val_masked_accuracy: 0.0918\n",
      "Epoch 407/500\n",
      "187/187 [==============================] - 8s 44ms/step - loss: 0.2202 - masked_accuracy: 0.9374 - val_loss: 9.3327 - val_masked_accuracy: 0.0915\n",
      "Epoch 408/500\n",
      "187/187 [==============================] - 24s 128ms/step - loss: 0.2189 - masked_accuracy: 0.9378 - val_loss: 9.3825 - val_masked_accuracy: 0.1064\n"
     ]
    },
    {
     "name": "stdout",
     "output_type": "stream",
     "text": [
      "Epoch 409/500\n",
      "187/187 [==============================] - 8s 44ms/step - loss: 0.2169 - masked_accuracy: 0.9382 - val_loss: 9.3671 - val_masked_accuracy: 0.0988\n",
      "Epoch 410/500\n",
      "187/187 [==============================] - 8s 44ms/step - loss: 0.2201 - masked_accuracy: 0.9369 - val_loss: 9.2637 - val_masked_accuracy: 0.0966\n",
      "Epoch 411/500\n",
      "187/187 [==============================] - 24s 130ms/step - loss: 0.2198 - masked_accuracy: 0.9383 - val_loss: 9.4658 - val_masked_accuracy: 0.0943\n",
      "Epoch 412/500\n",
      "187/187 [==============================] - 8s 43ms/step - loss: 0.2175 - masked_accuracy: 0.9382 - val_loss: 9.5239 - val_masked_accuracy: 0.0931\n",
      "Epoch 413/500\n",
      "187/187 [==============================] - 8s 44ms/step - loss: 0.2160 - masked_accuracy: 0.9380 - val_loss: 9.6860 - val_masked_accuracy: 0.0823\n",
      "Epoch 414/500\n",
      "187/187 [==============================] - 24s 130ms/step - loss: 0.2198 - masked_accuracy: 0.9371 - val_loss: 9.5807 - val_masked_accuracy: 0.0900\n",
      "Epoch 415/500\n",
      "187/187 [==============================] - 8s 44ms/step - loss: 0.2183 - masked_accuracy: 0.9374 - val_loss: 9.5680 - val_masked_accuracy: 0.0941\n",
      "Epoch 416/500\n",
      "187/187 [==============================] - 8s 44ms/step - loss: 0.2221 - masked_accuracy: 0.9373 - val_loss: 9.3618 - val_masked_accuracy: 0.0957\n",
      "Epoch 417/500\n",
      "187/187 [==============================] - 23s 124ms/step - loss: 0.2200 - masked_accuracy: 0.9368 - val_loss: 9.2410 - val_masked_accuracy: 0.0960\n",
      "Epoch 418/500\n",
      "187/187 [==============================] - 8s 44ms/step - loss: 0.2226 - masked_accuracy: 0.9368 - val_loss: 9.6200 - val_masked_accuracy: 0.0893\n",
      "Epoch 419/500\n",
      "187/187 [==============================] - 8s 44ms/step - loss: 0.2224 - masked_accuracy: 0.9373 - val_loss: 9.3584 - val_masked_accuracy: 0.0919\n",
      "Epoch 420/500\n",
      "187/187 [==============================] - 24s 126ms/step - loss: 0.2224 - masked_accuracy: 0.9364 - val_loss: 9.4954 - val_masked_accuracy: 0.0882\n",
      "Epoch 421/500\n",
      "187/187 [==============================] - 8s 44ms/step - loss: 0.2166 - masked_accuracy: 0.9380 - val_loss: 9.2473 - val_masked_accuracy: 0.0978\n",
      "Epoch 422/500\n",
      "187/187 [==============================] - 8s 44ms/step - loss: 0.2212 - masked_accuracy: 0.9375 - val_loss: 9.2493 - val_masked_accuracy: 0.0963\n",
      "Epoch 423/500\n",
      "187/187 [==============================] - 23s 123ms/step - loss: 0.2211 - masked_accuracy: 0.9372 - val_loss: 9.5123 - val_masked_accuracy: 0.0926\n",
      "Epoch 424/500\n",
      "187/187 [==============================] - 8s 43ms/step - loss: 0.2182 - masked_accuracy: 0.9381 - val_loss: 9.6000 - val_masked_accuracy: 0.0926\n",
      "Epoch 425/500\n",
      "187/187 [==============================] - 8s 44ms/step - loss: 0.2198 - masked_accuracy: 0.9381 - val_loss: 9.1951 - val_masked_accuracy: 0.0993\n",
      "Epoch 426/500\n",
      "187/187 [==============================] - 24s 130ms/step - loss: 0.2171 - masked_accuracy: 0.9383 - val_loss: 9.3988 - val_masked_accuracy: 0.0899\n",
      "Epoch 427/500\n",
      "187/187 [==============================] - 8s 44ms/step - loss: 0.2217 - masked_accuracy: 0.9367 - val_loss: 9.5607 - val_masked_accuracy: 0.0969\n",
      "Epoch 428/500\n",
      "187/187 [==============================] - 8s 44ms/step - loss: 0.2213 - masked_accuracy: 0.9372 - val_loss: 9.4659 - val_masked_accuracy: 0.0959\n",
      "Epoch 429/500\n",
      "187/187 [==============================] - 23s 123ms/step - loss: 0.2240 - masked_accuracy: 0.9366 - val_loss: 9.2312 - val_masked_accuracy: 0.0937\n",
      "Epoch 430/500\n",
      "187/187 [==============================] - 8s 43ms/step - loss: 0.2197 - masked_accuracy: 0.9380 - val_loss: 9.3967 - val_masked_accuracy: 0.0941\n",
      "Epoch 431/500\n",
      "187/187 [==============================] - 8s 44ms/step - loss: 0.2209 - masked_accuracy: 0.9366 - val_loss: 9.4589 - val_masked_accuracy: 0.0886\n",
      "Epoch 432/500\n",
      "187/187 [==============================] - 23s 122ms/step - loss: 0.2215 - masked_accuracy: 0.9374 - val_loss: 9.0985 - val_masked_accuracy: 0.0950\n",
      "Epoch 433/500\n",
      "187/187 [==============================] - 8s 44ms/step - loss: 0.2217 - masked_accuracy: 0.9381 - val_loss: 9.5329 - val_masked_accuracy: 0.0897\n",
      "Epoch 434/500\n",
      "187/187 [==============================] - 8s 44ms/step - loss: 0.2233 - masked_accuracy: 0.9368 - val_loss: 9.3256 - val_masked_accuracy: 0.0987\n",
      "Epoch 435/500\n",
      "187/187 [==============================] - 23s 122ms/step - loss: 0.2225 - masked_accuracy: 0.9370 - val_loss: 9.5141 - val_masked_accuracy: 0.0962\n",
      "Epoch 436/500\n",
      "187/187 [==============================] - 8s 44ms/step - loss: 0.2202 - masked_accuracy: 0.9375 - val_loss: 9.3271 - val_masked_accuracy: 0.0967\n",
      "Epoch 437/500\n",
      "187/187 [==============================] - 8s 44ms/step - loss: 0.2235 - masked_accuracy: 0.9361 - val_loss: 9.4221 - val_masked_accuracy: 0.1076\n",
      "Epoch 438/500\n",
      "187/187 [==============================] - 23s 123ms/step - loss: 0.2217 - masked_accuracy: 0.9370 - val_loss: 9.2891 - val_masked_accuracy: 0.0949\n",
      "Epoch 439/500\n",
      "187/187 [==============================] - 8s 44ms/step - loss: 0.2202 - masked_accuracy: 0.9375 - val_loss: 9.3607 - val_masked_accuracy: 0.0987\n",
      "Epoch 440/500\n",
      "187/187 [==============================] - 18s 98ms/step - loss: 0.2232 - masked_accuracy: 0.9361 - val_loss: 9.6059 - val_masked_accuracy: 0.0990\n",
      "Epoch 441/500\n",
      "187/187 [==============================] - 12s 60ms/step - loss: 0.2229 - masked_accuracy: 0.9370 - val_loss: 9.4310 - val_masked_accuracy: 0.1005\n",
      "Epoch 442/500\n",
      "187/187 [==============================] - 8s 44ms/step - loss: 0.2233 - masked_accuracy: 0.9355 - val_loss: 9.4550 - val_masked_accuracy: 0.1047\n",
      "Epoch 443/500\n",
      "187/187 [==============================] - 16s 86ms/step - loss: 0.2236 - masked_accuracy: 0.9360 - val_loss: 9.2988 - val_masked_accuracy: 0.1012\n",
      "Epoch 444/500\n",
      "187/187 [==============================] - 16s 82ms/step - loss: 0.2220 - masked_accuracy: 0.9369 - val_loss: 9.4705 - val_masked_accuracy: 0.0949\n",
      "Epoch 445/500\n",
      "187/187 [==============================] - 8s 44ms/step - loss: 0.2287 - masked_accuracy: 0.9355 - val_loss: 9.4553 - val_masked_accuracy: 0.1002\n",
      "Epoch 446/500\n",
      "187/187 [==============================] - 22s 118ms/step - loss: 0.2257 - masked_accuracy: 0.9367 - val_loss: 9.3261 - val_masked_accuracy: 0.0924\n",
      "Epoch 447/500\n",
      "187/187 [==============================] - 9s 48ms/step - loss: 0.2282 - masked_accuracy: 0.9362 - val_loss: 9.4754 - val_masked_accuracy: 0.0940\n",
      "Epoch 448/500\n",
      "187/187 [==============================] - 8s 44ms/step - loss: 0.2263 - masked_accuracy: 0.9359 - val_loss: 9.3450 - val_masked_accuracy: 0.0987\n",
      "Epoch 449/500\n",
      "187/187 [==============================] - 19s 104ms/step - loss: 0.2257 - masked_accuracy: 0.9359 - val_loss: 9.4388 - val_masked_accuracy: 0.0944\n",
      "Epoch 450/500\n",
      "187/187 [==============================] - 12s 59ms/step - loss: 0.2254 - masked_accuracy: 0.9364 - val_loss: 9.1299 - val_masked_accuracy: 0.1034\n",
      "Epoch 451/500\n",
      "187/187 [==============================] - 8s 44ms/step - loss: 0.2285 - masked_accuracy: 0.9366 - val_loss: 9.2078 - val_masked_accuracy: 0.0982\n",
      "Epoch 452/500\n",
      "187/187 [==============================] - 23s 122ms/step - loss: 0.2284 - masked_accuracy: 0.9368 - val_loss: 9.1917 - val_masked_accuracy: 0.1026\n",
      "Epoch 453/500\n",
      "187/187 [==============================] - 8s 43ms/step - loss: 0.2294 - masked_accuracy: 0.9358 - val_loss: 9.3511 - val_masked_accuracy: 0.0919\n",
      "Epoch 454/500\n",
      "187/187 [==============================] - 8s 44ms/step - loss: 0.2288 - masked_accuracy: 0.9360 - val_loss: 9.3988 - val_masked_accuracy: 0.0981\n",
      "Epoch 455/500\n",
      "187/187 [==============================] - 23s 124ms/step - loss: 0.2267 - masked_accuracy: 0.9354 - val_loss: 9.2458 - val_masked_accuracy: 0.0989\n",
      "Epoch 456/500\n",
      "187/187 [==============================] - 8s 43ms/step - loss: 0.2321 - masked_accuracy: 0.9349 - val_loss: 9.4119 - val_masked_accuracy: 0.1073\n",
      "Epoch 457/500\n",
      "187/187 [==============================] - 8s 44ms/step - loss: 0.2320 - masked_accuracy: 0.9350 - val_loss: 9.2720 - val_masked_accuracy: 0.0971\n",
      "Epoch 458/500\n",
      "187/187 [==============================] - 24s 127ms/step - loss: 0.2270 - masked_accuracy: 0.9356 - val_loss: 9.0563 - val_masked_accuracy: 0.1113\n",
      "Epoch 459/500\n",
      "187/187 [==============================] - 8s 43ms/step - loss: 0.2284 - masked_accuracy: 0.9355 - val_loss: 9.3734 - val_masked_accuracy: 0.0942\n"
     ]
    },
    {
     "name": "stdout",
     "output_type": "stream",
     "text": [
      "Epoch 460/500\n",
      "187/187 [==============================] - 8s 44ms/step - loss: 0.2301 - masked_accuracy: 0.9357 - val_loss: 9.4370 - val_masked_accuracy: 0.0902\n",
      "Epoch 461/500\n",
      "187/187 [==============================] - 23s 123ms/step - loss: 0.2314 - masked_accuracy: 0.9350 - val_loss: 9.0108 - val_masked_accuracy: 0.0967\n",
      "Epoch 462/500\n",
      "187/187 [==============================] - 9s 45ms/step - loss: 0.2301 - masked_accuracy: 0.9355 - val_loss: 9.1475 - val_masked_accuracy: 0.0966\n",
      "Epoch 463/500\n",
      "187/187 [==============================] - 9s 46ms/step - loss: 0.2298 - masked_accuracy: 0.9354 - val_loss: 9.0969 - val_masked_accuracy: 0.1145\n",
      "Epoch 464/500\n",
      "187/187 [==============================] - 23s 124ms/step - loss: 0.2326 - masked_accuracy: 0.9346 - val_loss: 9.1435 - val_masked_accuracy: 0.1016\n",
      "Epoch 465/500\n",
      "187/187 [==============================] - 9s 49ms/step - loss: 0.2334 - masked_accuracy: 0.9348 - val_loss: 9.1953 - val_masked_accuracy: 0.0990\n",
      "Epoch 466/500\n",
      "187/187 [==============================] - 9s 46ms/step - loss: 0.2286 - masked_accuracy: 0.9353 - val_loss: 9.3069 - val_masked_accuracy: 0.0998\n",
      "Epoch 467/500\n",
      "187/187 [==============================] - 23s 122ms/step - loss: 0.2322 - masked_accuracy: 0.9349 - val_loss: 9.1469 - val_masked_accuracy: 0.0954\n",
      "Epoch 468/500\n",
      "187/187 [==============================] - 9s 46ms/step - loss: 0.2307 - masked_accuracy: 0.9353 - val_loss: 9.3331 - val_masked_accuracy: 0.0990\n",
      "Epoch 469/500\n",
      "187/187 [==============================] - 23s 125ms/step - loss: 0.2292 - masked_accuracy: 0.9356 - val_loss: 9.0711 - val_masked_accuracy: 0.1005\n",
      "Epoch 470/500\n",
      "187/187 [==============================] - 9s 49ms/step - loss: 0.2286 - masked_accuracy: 0.9354 - val_loss: 9.2234 - val_masked_accuracy: 0.0906\n",
      "Epoch 471/500\n",
      "187/187 [==============================] - 9s 46ms/step - loss: 0.2273 - masked_accuracy: 0.9368 - val_loss: 9.2907 - val_masked_accuracy: 0.0953\n",
      "Epoch 472/500\n",
      "187/187 [==============================] - 24s 126ms/step - loss: 0.2279 - masked_accuracy: 0.9349 - val_loss: 8.9403 - val_masked_accuracy: 0.1033\n",
      "Epoch 473/500\n",
      "187/187 [==============================] - 9s 46ms/step - loss: 0.2320 - masked_accuracy: 0.9355 - val_loss: 9.1061 - val_masked_accuracy: 0.0981\n",
      "Epoch 474/500\n",
      "187/187 [==============================] - 24s 128ms/step - loss: 0.2292 - masked_accuracy: 0.9354 - val_loss: 9.1533 - val_masked_accuracy: 0.0951\n",
      "Epoch 475/500\n",
      "187/187 [==============================] - 9s 47ms/step - loss: 0.2325 - masked_accuracy: 0.9356 - val_loss: 9.0195 - val_masked_accuracy: 0.0932\n",
      "Epoch 476/500\n",
      "187/187 [==============================] - 10s 52ms/step - loss: 0.2301 - masked_accuracy: 0.9352 - val_loss: 9.0016 - val_masked_accuracy: 0.0965\n",
      "Epoch 477/500\n",
      "187/187 [==============================] - 23s 126ms/step - loss: 0.2323 - masked_accuracy: 0.9351 - val_loss: 9.1531 - val_masked_accuracy: 0.0918\n",
      "Epoch 478/500\n",
      "187/187 [==============================] - 9s 47ms/step - loss: 0.2303 - masked_accuracy: 0.9358 - val_loss: 8.8392 - val_masked_accuracy: 0.1094\n",
      "Epoch 479/500\n",
      "187/187 [==============================] - 9s 47ms/step - loss: 0.2338 - masked_accuracy: 0.9344 - val_loss: 9.0480 - val_masked_accuracy: 0.0959\n",
      "Epoch 480/500\n",
      "187/187 [==============================] - 25s 133ms/step - loss: 0.2306 - masked_accuracy: 0.9351 - val_loss: 8.9268 - val_masked_accuracy: 0.0950\n",
      "Epoch 481/500\n",
      "187/187 [==============================] - 9s 47ms/step - loss: 0.2361 - masked_accuracy: 0.9340 - val_loss: 9.0305 - val_masked_accuracy: 0.0982\n",
      "Epoch 482/500\n",
      "187/187 [==============================] - 14s 74ms/step - loss: 0.2339 - masked_accuracy: 0.9339 - val_loss: 8.9637 - val_masked_accuracy: 0.0906\n",
      "Epoch 483/500\n",
      "187/187 [==============================] - 21s 111ms/step - loss: 0.2348 - masked_accuracy: 0.9348 - val_loss: 9.0774 - val_masked_accuracy: 0.0921\n",
      "Epoch 484/500\n",
      "187/187 [==============================] - 9s 47ms/step - loss: 0.2373 - masked_accuracy: 0.9348 - val_loss: 9.1454 - val_masked_accuracy: 0.0878\n",
      "Epoch 485/500\n",
      "187/187 [==============================] - 25s 136ms/step - loss: 0.2423 - masked_accuracy: 0.9325 - val_loss: 9.1686 - val_masked_accuracy: 0.0963\n",
      "Epoch 486/500\n",
      "187/187 [==============================] - 9s 50ms/step - loss: 0.2359 - masked_accuracy: 0.9343 - val_loss: 9.1112 - val_masked_accuracy: 0.0913\n",
      "Epoch 487/500\n",
      "187/187 [==============================] - 9s 47ms/step - loss: 0.2370 - masked_accuracy: 0.9335 - val_loss: 9.1172 - val_masked_accuracy: 0.0949\n",
      "Epoch 488/500\n",
      "187/187 [==============================] - 25s 136ms/step - loss: 0.2387 - masked_accuracy: 0.9332 - val_loss: 9.3424 - val_masked_accuracy: 0.0926\n",
      "Epoch 489/500\n",
      "187/187 [==============================] - 9s 46ms/step - loss: 0.2402 - masked_accuracy: 0.9341 - val_loss: 9.0486 - val_masked_accuracy: 0.0957\n",
      "Epoch 490/500\n",
      "187/187 [==============================] - 9s 47ms/step - loss: 0.2381 - masked_accuracy: 0.9339 - val_loss: 9.4211 - val_masked_accuracy: 0.0881\n",
      "Epoch 491/500\n",
      "187/187 [==============================] - 27s 146ms/step - loss: 0.2397 - masked_accuracy: 0.9338 - val_loss: 9.0640 - val_masked_accuracy: 0.1037\n",
      "Epoch 492/500\n",
      "187/187 [==============================] - 9s 46ms/step - loss: 0.2396 - masked_accuracy: 0.9334 - val_loss: 9.1288 - val_masked_accuracy: 0.0940\n",
      "Epoch 493/500\n",
      "187/187 [==============================] - 9s 47ms/step - loss: 0.2369 - masked_accuracy: 0.9341 - val_loss: 9.4450 - val_masked_accuracy: 0.1005\n",
      "Epoch 494/500\n",
      "187/187 [==============================] - 25s 133ms/step - loss: 0.2407 - masked_accuracy: 0.9330 - val_loss: 9.5330 - val_masked_accuracy: 0.0909\n",
      "Epoch 495/500\n",
      "187/187 [==============================] - 9s 46ms/step - loss: 0.2416 - masked_accuracy: 0.9334 - val_loss: 9.5650 - val_masked_accuracy: 0.0886\n",
      "Epoch 496/500\n",
      "187/187 [==============================] - 26s 138ms/step - loss: 0.2432 - masked_accuracy: 0.9318 - val_loss: 9.9318 - val_masked_accuracy: 0.0870\n",
      "Epoch 497/500\n",
      "187/187 [==============================] - 10s 52ms/step - loss: 0.2452 - masked_accuracy: 0.9320 - val_loss: 9.4771 - val_masked_accuracy: 0.0947\n",
      "Epoch 498/500\n",
      "187/187 [==============================] - 9s 46ms/step - loss: 0.2434 - masked_accuracy: 0.9324 - val_loss: 9.5184 - val_masked_accuracy: 0.0886\n",
      "Epoch 499/500\n",
      "187/187 [==============================] - 25s 135ms/step - loss: 0.2448 - masked_accuracy: 0.9318 - val_loss: 9.6757 - val_masked_accuracy: 0.0959\n",
      "Epoch 500/500\n",
      "187/187 [==============================] - 9s 50ms/step - loss: 0.2481 - masked_accuracy: 0.9308 - val_loss: 9.6440 - val_masked_accuracy: 0.0886\n"
     ]
    }
   ],
   "source": [
    "history = transformer.fit(tr_batch, epochs=500, validation_data=val_batch)"
   ]
  },
  {
   "cell_type": "markdown",
   "id": "d2bd0b1c",
   "metadata": {},
   "source": [
    "### Inference ( Test The Model)"
   ]
  },
  {
   "cell_type": "markdown",
   "id": "ec13970f",
   "metadata": {},
   "source": [
    "### Build Generator"
   ]
  },
  {
   "cell_type": "code",
   "execution_count": 58,
   "id": "a06502e8",
   "metadata": {},
   "outputs": [],
   "source": [
    "class Generator(tf.Module):\n",
    "    def __init__(self,\n",
    "                tokenizer,\n",
    "                transformer,\n",
    "                vocabulary,\n",
    "                max_token,\n",
    "                temp=0.0):\n",
    "        self.tokenizer = tokenizer\n",
    "        self.transformer = transformer\n",
    "        self.vocab = vocabulary\n",
    "        self.max_token = max_token\n",
    "        self.temp = temp\n",
    "    def __call__(self,keyword,max_length=MAX_TOKENS):\n",
    "        input_sentence = self.tokenizer(keyword)\n",
    "        input_sentence = tf.expand_dims(input_sentence,axis=0)\n",
    "        output_array = tf.TensorArray(dtype=tf.int64,size=0,dynamic_size=True)\n",
    "        print(f'Generating {self.max_token} number of new tokens ------')\n",
    "        for i in tf.range(self.max_token):\n",
    "            output = tf.transpose(output_array.stack())\n",
    "            prediction = self.transformer(input_sentence,training=False)\n",
    "            prediction = prediction[:,-1:,:]\n",
    "            if self.temp==0.0:\n",
    "                prediction_id = tf.argmax(prediction,axis=-1)\n",
    "            else:\n",
    "                prediction = prediction/self.temp\n",
    "                prediction_id = tf.random.categorical(prediction[0],\n",
    "                                                     num_samples=1)\n",
    "            output_array = output_array.write(i+1,prediction_id[0])\n",
    "            input_sentence = tf.experimental.numpy.append(input_sentence,\n",
    "                                                         prediction_id[0])\n",
    "            input_sentence = tf.expand_dims(input_sentence,axis=0)\n",
    "        output = tf.transpose(output_array.stack())\n",
    "        id_to_word = tf.keras.layers.StringLookup(mask_token=\"\",\n",
    "                                          vocabulary=vocabulary, \n",
    "                                          oov_token=\"[UNK]\", \n",
    "                                          invert=True)\n",
    "        print(f'Using Temparature of {self.temp} -----')\n",
    "        text = id_to_word(output)\n",
    "        tokens = output\n",
    "        self.transformer(output[:,:-1],training=False)\n",
    "        attention_weights = self.transformer.decoder.attention_score\n",
    "        \n",
    "        return text,tokens,attention_weights"
   ]
  },
  {
   "cell_type": "markdown",
   "id": "4df6b260",
   "metadata": {},
   "source": [
    "### Run"
   ]
  },
  {
   "cell_type": "code",
   "execution_count": 59,
   "id": "ce8fc957",
   "metadata": {},
   "outputs": [],
   "source": [
    "gen_text_size = 100\n",
    "temp = 0.9\n",
    "generator = Generator(tokenizer=vec_layer,\n",
    "                     transformer=transformer,\n",
    "                     vocabulary=vocabulary,\n",
    "                     max_token=gen_text_size,\n",
    "                     temp=temp)"
   ]
  },
  {
   "cell_type": "code",
   "execution_count": 60,
   "id": "a0b89d87",
   "metadata": {},
   "outputs": [],
   "source": [
    "def print_generated_text(input_keyword,gen_text):\n",
    "    print(f' Input : {input_keyword} ')\n",
    "    print(f' Generated : {gen_text}')"
   ]
  },
  {
   "cell_type": "code",
   "execution_count": 61,
   "id": "55f5dc16",
   "metadata": {},
   "outputs": [
    {
     "name": "stdout",
     "output_type": "stream",
     "text": [
      "Generating 100 number of new tokens ------\n",
      "Using Temparature of 0.9 -----\n",
      " Input : You \n",
      " Generated : [[b'' b'the' b'instant' b'you' b'feel' b'the' b'rein' b'on' b'your'\n",
      "  b'neck' b'if' b'you' b'haven\\xe2\\x80\\x99t' b'room' b'to' b'another'\n",
      "  b'world' b'the' b'bottom' b'of' b'a' b'country' b'the' b'way' b'you'\n",
      "  b'end' b'of' b'[UNK]' b't' b'oh' b'camel' b'with' b'your' b'find'\n",
      "  b'out\\xe2\\x80\\x9d' b'me' b'as' b'i' b'could' b'see' b'the' b'moon'\n",
      "  b'if' b'you' b'had' b'been' b'two' b'tails' b'if' b'you' b'had' b'been'\n",
      "  b'waked' b'the' b'past' b'his' b'eyes' b'wide' b'with' b'your' b'neck'\n",
      "  b'it' b'was' b'i' b'had' b'been' b'here' b'is' b'there' b'is' b'a'\n",
      "  b'leg' b'or' b'afraid' b'of' b'the' b'lying' b'a' b'shot' b'up' b'red'\n",
      "  b'[UNK]' b'down' b'and' b'i' b'could' b'see' b'the' b'amir' b'away'\n",
      "  b'from' b'the' b'elephants' b'were' b'afraid' b'of' b'[UNK]' b'just'\n",
      "  b'because' b'i' b'could']]\n"
     ]
    }
   ],
   "source": [
    "input_word = \"You\"\n",
    "gen_text,gen_token,att_score = generator(input_word)\n",
    "print_generated_text(input_word,gen_text)"
   ]
  },
  {
   "cell_type": "code",
   "execution_count": 62,
   "id": "e79c9b91",
   "metadata": {},
   "outputs": [
    {
     "name": "stdout",
     "output_type": "stream",
     "text": [
      "You the instant you feel the rein on your neck if you haven’t room to another world the bottom of a country the way you end of [UNK] t oh camel with your find out” me as i could see the moon if you had been two tails if you had been waked the past his eyes wide with your neck it was i had been here is there is a leg or afraid of the lying a shot up red [UNK] down and i could see the amir away from the elephants were afraid of [UNK] just because i could\n"
     ]
    }
   ],
   "source": [
    "print( input_word + ' '.join([i.decode('utf-8') for i in gen_text[0].numpy()]))"
   ]
  }
 ],
 "metadata": {
  "kernelspec": {
   "display_name": "ML_AI",
   "language": "python",
   "name": "ml_ai"
  },
  "language_info": {
   "codemirror_mode": {
    "name": "ipython",
    "version": 3
   },
   "file_extension": ".py",
   "mimetype": "text/x-python",
   "name": "python",
   "nbconvert_exporter": "python",
   "pygments_lexer": "ipython3",
   "version": "3.10.14"
  }
 },
 "nbformat": 4,
 "nbformat_minor": 5
}
